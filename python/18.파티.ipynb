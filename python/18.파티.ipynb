{
 "cells": [
  {
   "cell_type": "code",
   "execution_count": 1,
   "source": [
    "graph = {\r\n",
    "    'A' : {'B' : 3, 'C' :4 }\r\n",
    "    }\r\n",
    "distances = {node: float('inf') for node in graph}  # start로 부터의 거리 값을 저장하기 위함\r\n",
    "distances"
   ],
   "outputs": [
    {
     "output_type": "execute_result",
     "data": {
      "text/plain": [
       "{'A': inf}"
      ]
     },
     "metadata": {},
     "execution_count": 1
    }
   ],
   "metadata": {}
  },
  {
   "cell_type": "code",
   "execution_count": 22,
   "source": [
    "import heapq\r\n",
    "\r\n",
    "'''\r\n",
    "4 8 2\r\n",
    "1 2 4\r\n",
    "1 3 2\r\n",
    "1 4 7\r\n",
    "2 1 1\r\n",
    "2 3 5\r\n",
    "3 1 2\r\n",
    "3 4 4\r\n",
    "4 2 3\r\n",
    "'''\r\n",
    "\r\n",
    "N, K, T  = map(int, input().split() )\r\n",
    "\r\n",
    "graph = [ [] for i in range(N) ]\r\n",
    "for i in range(K) :\r\n",
    "    a,b,c = list(map(int, input().split() ) ) \r\n",
    "    graph[a-1].append([b-1,c])\r\n",
    "\r\n",
    "def dijkstra( graph, start, N ):\r\n",
    "    d = [float('inf') for i in range(N)]\r\n",
    "    d[start] = 0\r\n",
    "    que = []\r\n",
    "    heapq.heappush(que, [ d[start], start])\r\n",
    "\r\n",
    "    while que :\r\n",
    "        current_d , current_p = heapq.heappop(que)\r\n",
    "        if d[current_p] < current_d : continue \r\n",
    "        for _graph in graph[current_p] :\r\n",
    "            if d[_graph[0]] > current_d + _graph[1] :\r\n",
    "                d[_graph[0]] = current_d + _graph[1]\r\n",
    "                heapq.heappush(que, [ d[_graph[0]], _graph[0]])\r\n",
    "    return d\r\n",
    "\r\n",
    "ans = 0\r\n",
    "party_home = dijkstra(graph, T-1, N )\r\n",
    "for i in range(N) :\r\n",
    "    if i == T-1 : continue\r\n",
    "    djk= dijkstra(graph, i, N )\r\n",
    "    if ans < djk[T-1] + party_home[i] : ans = djk[T-1] + party_home[i]\r\n",
    "\r\n",
    "print( ans )\r\n",
    "\r\n",
    "\r\n"
   ],
   "outputs": [
    {
     "output_type": "stream",
     "name": "stdout",
     "text": [
      "[0, 4, 2, 6]\n",
      "[2, 6, 0, 4]\n",
      "[4, 3, 6, 0]\n",
      "10\n"
     ]
    }
   ],
   "metadata": {}
  },
  {
   "cell_type": "code",
   "execution_count": 3,
   "source": [
    "from itertools import *\r\n",
    "len(list(permutations([1,2,3,4],4)))"
   ],
   "outputs": [
    {
     "output_type": "execute_result",
     "data": {
      "text/plain": [
       "24"
      ]
     },
     "metadata": {},
     "execution_count": 3
    }
   ],
   "metadata": {}
  }
 ],
 "metadata": {
  "orig_nbformat": 4,
  "language_info": {
   "name": "python",
   "version": "3.6.10",
   "mimetype": "text/x-python",
   "codemirror_mode": {
    "name": "ipython",
    "version": 3
   },
   "pygments_lexer": "ipython3",
   "nbconvert_exporter": "python",
   "file_extension": ".py"
  },
  "kernelspec": {
   "name": "python3",
   "display_name": "Python 3.6.10 32-bit ('Creon': conda)"
  },
  "interpreter": {
   "hash": "9635ca3d6d5f11656583d6eb63f4b0aef68d4d14b39e0cdfbcfd3fa05a10e097"
  }
 },
 "nbformat": 4,
 "nbformat_minor": 2
}