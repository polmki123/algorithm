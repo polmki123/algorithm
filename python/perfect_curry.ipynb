{
 "metadata": {
  "language_info": {
   "codemirror_mode": {
    "name": "ipython",
    "version": 3
   },
   "file_extension": ".py",
   "mimetype": "text/x-python",
   "name": "python",
   "nbconvert_exporter": "python",
   "pygments_lexer": "ipython3",
   "version": "3.8.5"
  },
  "orig_nbformat": 4,
  "kernelspec": {
   "name": "python3",
   "display_name": "Python 3.8.5 64-bit ('base': conda)"
  },
  "interpreter": {
   "hash": "1930453f7e9948be8425de40a202e7a4eceb03bdb397b653bf5ac9ebd83ff49c"
  }
 },
 "nbformat": 4,
 "nbformat_minor": 2,
 "cells": [
  {
   "cell_type": "code",
   "execution_count": 12,
   "metadata": {},
   "outputs": [],
   "source": [
    "def curry(func) :\n",
    "    def curried (*args, **kwargs) :\n",
    "        def f(*args2, **kwargs2) :\n",
    "            nonlocal args, kwargs \n",
    "            args += args2\n",
    "            kwargs.update(kwargs2)\n",
    "            return curried(*args, **kwargs)\n",
    "\n",
    "        if len(args) + len(kwargs) >= func.__code__.co_argcount :\n",
    "            result = func(*args, **kwargs)\n",
    "            args, kwargs = [], {}\n",
    "            return result \n",
    "        else :\n",
    "            return f\n",
    "    return curried\n",
    "\n",
    "@curry\n",
    "def reduce(f, acc) :\n",
    "    acc = iter(acc)\n",
    "    initate = next(acc)\n",
    "    for a in acc :\n",
    "        initate = f(initate, a)\n",
    "    return initate\n",
    "\n",
    "def go(*args):\n",
    "    def func(a, f) :\n",
    "        return f(a)\n",
    "    return reduce(func, args)"
   ]
  },
  {
   "cell_type": "code",
   "execution_count": 13,
   "metadata": {},
   "outputs": [
    {
     "output_type": "execute_result",
     "data": {
      "text/plain": [
       "[6, 7, 8, 9, 10]"
      ]
     },
     "metadata": {},
     "execution_count": 13
    }
   ],
   "source": [
    "@curry\n",
    "def map(f, iterable):\n",
    "    result = []\n",
    "    for a in iterable :\n",
    "        result.append(f(a))\n",
    "    return result \n",
    "\n",
    "\n",
    "go( \n",
    "    [1,2,3,4,5],\n",
    "    map(lambda x : x + 5 )\n",
    ")"
   ]
  },
  {
   "cell_type": "code",
   "execution_count": null,
   "metadata": {},
   "outputs": [],
   "source": [
    "if __name__ == \"__main__\":\n",
    "    input = sys.stdin.readline\n",
    "    N, K  = map(int, input().split()) "
   ]
  }
 ]
}