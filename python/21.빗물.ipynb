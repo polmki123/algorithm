{
 "cells": [
  {
   "cell_type": "code",
   "execution_count": 15,
   "source": [
    "H, W = map(int, input().split())\r\n",
    "M = list(map(int, input().split()))\r\n",
    "\r\n",
    "\r\n",
    "def left_dfs( board ) :\r\n",
    "    if len(board) <= 1:\r\n",
    "        return 0 \r\n",
    "    big_score = max(board)\r\n",
    "    big_point = max( list(filter( lambda x : board[x] == big_score, range(len(board)) ) ) )\r\n",
    "    if big_score == 0 :\r\n",
    "        return 0  \r\n",
    "\r\n",
    "    rain_sum = 0\r\n",
    "    for i in range(big_point + 1, len(board) ) :\r\n",
    "        rain_sum += big_score - board[i]\r\n",
    "    return rain_sum + left_dfs(board[:big_point])\r\n",
    "\r\n",
    "def right_dfs( board ) :\r\n",
    "    if len(board) <= 1:\r\n",
    "        return 0 \r\n",
    "    big_score = max(board)\r\n",
    "    big_point = min( list(filter( lambda x : board[x] == big_score, range(len(board)) ) ) )\r\n",
    "    if big_score == 0 :\r\n",
    "        return 0  \r\n",
    "\r\n",
    "    rain_sum = 0\r\n",
    "    for i in range(0 , big_point ) :\r\n",
    "        rain_sum += big_score - board[i]\r\n",
    "    return rain_sum + right_dfs(board[ big_point + 1:])\r\n",
    "\r\n",
    "m_point = M.index(max(M))\r\n",
    "left_sum = left_dfs(M[:m_point])\r\n",
    "right_sum = right_dfs(M[m_point+1:])\r\n",
    "print( left_sum + right_sum )"
   ],
   "outputs": [
    {
     "output_type": "stream",
     "name": "stdout",
     "text": [
      "[0, 0, 0]\n",
      "[0]\n",
      "0\n"
     ]
    }
   ],
   "metadata": {}
  },
  {
   "cell_type": "code",
   "execution_count": 5,
   "source": [
    "a = [1,2,3,4]\r\n",
    "a[0:]"
   ],
   "outputs": [
    {
     "output_type": "execute_result",
     "data": {
      "text/plain": [
       "[1, 2, 3, 4]"
      ]
     },
     "metadata": {},
     "execution_count": 5
    }
   ],
   "metadata": {}
  }
 ],
 "metadata": {
  "orig_nbformat": 4,
  "language_info": {
   "name": "python",
   "version": "3.6.10",
   "mimetype": "text/x-python",
   "codemirror_mode": {
    "name": "ipython",
    "version": 3
   },
   "pygments_lexer": "ipython3",
   "nbconvert_exporter": "python",
   "file_extension": ".py"
  },
  "kernelspec": {
   "name": "python3",
   "display_name": "Python 3.6.10 32-bit ('Creon': conda)"
  },
  "interpreter": {
   "hash": "9635ca3d6d5f11656583d6eb63f4b0aef68d4d14b39e0cdfbcfd3fa05a10e097"
  }
 },
 "nbformat": 4,
 "nbformat_minor": 2
}