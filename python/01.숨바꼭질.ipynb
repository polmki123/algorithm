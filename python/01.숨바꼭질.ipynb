{
 "metadata": {
  "language_info": {
   "codemirror_mode": {
    "name": "ipython",
    "version": 3
   },
   "file_extension": ".py",
   "mimetype": "text/x-python",
   "name": "python",
   "nbconvert_exporter": "python",
   "pygments_lexer": "ipython3",
   "version": "3.8.5"
  },
  "orig_nbformat": 4,
  "kernelspec": {
   "name": "python3",
   "display_name": "Python 3.8.5 64-bit ('base': conda)"
  },
  "interpreter": {
   "hash": "1930453f7e9948be8425de40a202e7a4eceb03bdb397b653bf5ac9ebd83ff49c"
  }
 },
 "nbformat": 4,
 "nbformat_minor": 2,
 "cells": [
  {
   "cell_type": "code",
   "execution_count": 1,
   "source": [
    "def curry(func) :\r\n",
    "    def curried (*args, **kwargs) :\r\n",
    "        def f(*args2, **kwargs2) :\r\n",
    "            nonlocal args, kwargs \r\n",
    "            args += args2\r\n",
    "            kwargs.update(kwargs2)\r\n",
    "            return curried(*args, **kwargs)\r\n",
    "\r\n",
    "        if len(args) + len(kwargs) >= func.__code__.co_argcount :\r\n",
    "            result = func(*args, **kwargs)\r\n",
    "            args, kwargs = [], {}\r\n",
    "            return result \r\n",
    "        else :\r\n",
    "            return f\r\n",
    "    return curried\r\n",
    "\r\n",
    "@curry\r\n",
    "def reduce(f, acc) :\r\n",
    "    acc = iter(acc)\r\n",
    "    initate = next(acc)\r\n",
    "    for a in acc :\r\n",
    "        initate = f(initate, a)\r\n",
    "    return initate\r\n",
    "\r\n",
    "@curry \r\n",
    "def map(f, iterable) :\r\n",
    "    result = []\r\n",
    "    for i in iterable :\r\n",
    "        result.append(f(i) )\r\n",
    "    return result \r\n",
    "\r\n",
    "\r\n",
    "def go(*args):\r\n",
    "    def func(a, f) :\r\n",
    "        return f(a)\r\n",
    "    return reduce(func, args)\r\n",
    "\r\n"
   ],
   "outputs": [],
   "metadata": {}
  },
  {
   "cell_type": "code",
   "execution_count": 21,
   "source": [
    "\r\n",
    "add = lambda x, y: x + y\r\n",
    "\r\n",
    "@curry \r\n",
    "def add( x, y) :\r\n",
    "    return x + y\r\n",
    "\r\n",
    "reduce( lambda x, y : x + y, [1,2,3,4])\r\n"
   ],
   "outputs": [
    {
     "output_type": "execute_result",
     "data": {
      "text/plain": [
       "10"
      ]
     },
     "metadata": {},
     "execution_count": 21
    }
   ],
   "metadata": {}
  },
  {
   "cell_type": "code",
   "execution_count": 2,
   "source": [
    "go  (\r\n",
    "    [1,2,3,4,5,6],\r\n",
    "    map(lambda x : x + 5),\r\n",
    "    map(lambda x : x * 2),\r\n",
    "    map(lambda x : x * 3),\r\n",
    ")"
   ],
   "outputs": [
    {
     "output_type": "execute_result",
     "data": {
      "text/plain": [
       "[36, 42, 48, 54, 60, 66]"
      ]
     },
     "metadata": {},
     "execution_count": 2
    }
   ],
   "metadata": {}
  },
  {
   "cell_type": "code",
   "execution_count": 2,
   "source": [
    "if __name__ == \"__main__\":\r\n",
    "    a = go(\r\n",
    "        [1,2,3,4],\r\n",
    "        map( lambda x : x  + 5)\r\n",
    "    )\r\n",
    "    print(a)\r\n"
   ],
   "outputs": [
    {
     "output_type": "stream",
     "name": "stdout",
     "text": [
      "[6, 7, 8, 9]\n"
     ]
    }
   ],
   "metadata": {}
  },
  {
   "cell_type": "code",
   "execution_count": null,
   "source": [
    "from collections import *\r\n",
    "\r\n",
    "def bfs(n, k ) :\r\n",
    "    dist = [0] * 100001 \r\n",
    "    move = [0] * 100001 \r\n",
    "    deq = deque()\r\n",
    "    deq.append(n)\r\n",
    "    while deq :\r\n",
    "        x = deq.popleft()\r\n",
    "        if x == k :\r\n",
    "            ans = []\r\n",
    "            while x != k :\r\n",
    "                ans.append(x)\r\n",
    "                x = move[x]\r\n",
    "            return ans\r\n",
    "        else :\r\n",
    "            for i in [ x + 1, x - 1, x * 2] :\r\n",
    "                if 0 <= i <= 100001 and dist[i] == 0 :\r\n",
    "                    dist[i] = dist[x] + 1\r\n",
    "                    move[i] = x\r\n",
    "                    deq.append(i)\r\n",
    "        return ans             \r\n"
   ],
   "outputs": [],
   "metadata": {}
  },
  {
   "cell_type": "code",
   "execution_count": 21,
   "source": [
    "fp_while = lambda pred, fun, acc \\\r\n",
    "    : (lambda val: fp_while(pred, fun, val) if pred(val) else val)  ( fun(acc) )\r\n",
    "\r\n",
    "def condition(x) :\r\n",
    "    print ( 'condition' , x )\r\n",
    "    if x < 3 :\r\n",
    "        return True\r\n",
    "    return False\r\n",
    "\r\n",
    "def add_one(x) :\r\n",
    "    print ( 'add_one' , x )\r\n",
    "    return x + 1\r\n",
    "\r\n",
    "print(  (add_one)(4) )\r\n",
    "print ( fp_while( condition, add_one, 1) ) \r\n",
    "\r\n",
    "# print ( fp_while(lambda x: x < 5, lambda x: x + 1, 1) ) \r\n",
    "# def fp_while( p, f, acc) :\r\n",
    "#     def func(val) :\r\n",
    "#         if p(val) : \r\n",
    "#             return fp_while( p, f, acc )\r\n",
    "#         return val \r\n",
    "#     return func"
   ],
   "outputs": [
    {
     "output_type": "stream",
     "name": "stdout",
     "text": [
      "add_one 4\n",
      "5\n",
      "add_one 1\n",
      "condition 2\n",
      "add_one 2\n",
      "condition 3\n",
      "3\n"
     ]
    }
   ],
   "metadata": {}
  },
  {
   "cell_type": "code",
   "execution_count": 16,
   "source": [
    "\r\n",
    "print ( (lambda x : x + 5) (4) )"
   ],
   "outputs": [
    {
     "output_type": "stream",
     "name": "stdout",
     "text": [
      "9\n"
     ]
    }
   ],
   "metadata": {}
  },
  {
   "cell_type": "code",
   "execution_count": 14,
   "source": [
    "test_while = lambda pred, fun, acc :  ( pred + acc )  ( fun(acc) ) # ()를 2번 쓰는 것 처럼 보이나 이 뜻은 바로 호출한다는 뜻이다 \n",
    "test_while2 = lambda pred, fun, acc :  pred + acc + fun \n",
    "\n",
    "def call1(x) :\n",
    "    print ( 'call1' , x )\n",
    "    if x < 5 :\n",
    "        return True\n",
    "    return False\n",
    "\n",
    "def call2(x) :\n",
    "    print ( 'call2' , x )\n",
    "    return x + 1\n",
    "\n",
    "print ( test_while2 ( 1, 2, 3 ))\n",
    "print ( test_while( 2, call2, 1) ) "
   ],
   "outputs": [
    {
     "output_type": "stream",
     "name": "stdout",
     "text": [
      "6\n",
      "call2 1\n"
     ]
    },
    {
     "output_type": "error",
     "ename": "TypeError",
     "evalue": "'int' object is not callable",
     "traceback": [
      "\u001b[1;31m---------------------------------------------------------------------------\u001b[0m",
      "\u001b[1;31mTypeError\u001b[0m                                 Traceback (most recent call last)",
      "\u001b[1;32m<ipython-input-14-da54998608f8>\u001b[0m in \u001b[0;36m<module>\u001b[1;34m\u001b[0m\n\u001b[0;32m     13\u001b[0m \u001b[1;33m\u001b[0m\u001b[0m\n\u001b[0;32m     14\u001b[0m \u001b[0mprint\u001b[0m \u001b[1;33m(\u001b[0m \u001b[0mtest_while2\u001b[0m \u001b[1;33m(\u001b[0m \u001b[1;36m1\u001b[0m\u001b[1;33m,\u001b[0m \u001b[1;36m2\u001b[0m\u001b[1;33m,\u001b[0m \u001b[1;36m3\u001b[0m \u001b[1;33m)\u001b[0m\u001b[1;33m)\u001b[0m\u001b[1;33m\u001b[0m\u001b[1;33m\u001b[0m\u001b[0m\n\u001b[1;32m---> 15\u001b[1;33m \u001b[0mprint\u001b[0m \u001b[1;33m(\u001b[0m \u001b[0mtest_while\u001b[0m\u001b[1;33m(\u001b[0m \u001b[1;36m2\u001b[0m\u001b[1;33m,\u001b[0m \u001b[0mcall2\u001b[0m\u001b[1;33m,\u001b[0m \u001b[1;36m1\u001b[0m\u001b[1;33m)\u001b[0m \u001b[1;33m)\u001b[0m\u001b[1;33m\u001b[0m\u001b[1;33m\u001b[0m\u001b[0m\n\u001b[0m",
      "\u001b[1;32m<ipython-input-14-da54998608f8>\u001b[0m in \u001b[0;36m<lambda>\u001b[1;34m(pred, fun, acc)\u001b[0m\n\u001b[1;32m----> 1\u001b[1;33m \u001b[0mtest_while\u001b[0m \u001b[1;33m=\u001b[0m \u001b[1;32mlambda\u001b[0m \u001b[0mpred\u001b[0m\u001b[1;33m,\u001b[0m \u001b[0mfun\u001b[0m\u001b[1;33m,\u001b[0m \u001b[0macc\u001b[0m \u001b[1;33m:\u001b[0m  \u001b[1;33m(\u001b[0m \u001b[0mpred\u001b[0m \u001b[1;33m+\u001b[0m \u001b[0macc\u001b[0m \u001b[1;33m)\u001b[0m  \u001b[1;33m(\u001b[0m \u001b[0mfun\u001b[0m\u001b[1;33m(\u001b[0m\u001b[0macc\u001b[0m\u001b[1;33m)\u001b[0m \u001b[1;33m)\u001b[0m\u001b[1;33m\u001b[0m\u001b[1;33m\u001b[0m\u001b[0m\n\u001b[0m\u001b[0;32m      2\u001b[0m \u001b[0mtest_while2\u001b[0m \u001b[1;33m=\u001b[0m \u001b[1;32mlambda\u001b[0m \u001b[0mpred\u001b[0m\u001b[1;33m,\u001b[0m \u001b[0mfun\u001b[0m\u001b[1;33m,\u001b[0m \u001b[0macc\u001b[0m \u001b[1;33m:\u001b[0m  \u001b[0mpred\u001b[0m \u001b[1;33m+\u001b[0m \u001b[0macc\u001b[0m \u001b[1;33m+\u001b[0m \u001b[0mfun\u001b[0m\u001b[1;33m\u001b[0m\u001b[1;33m\u001b[0m\u001b[0m\n\u001b[0;32m      3\u001b[0m \u001b[1;33m\u001b[0m\u001b[0m\n\u001b[0;32m      4\u001b[0m \u001b[1;32mdef\u001b[0m \u001b[0mcall1\u001b[0m\u001b[1;33m(\u001b[0m\u001b[0mx\u001b[0m\u001b[1;33m)\u001b[0m \u001b[1;33m:\u001b[0m\u001b[1;33m\u001b[0m\u001b[1;33m\u001b[0m\u001b[0m\n\u001b[0;32m      5\u001b[0m     \u001b[0mprint\u001b[0m \u001b[1;33m(\u001b[0m \u001b[1;34m'call1'\u001b[0m \u001b[1;33m,\u001b[0m \u001b[0mx\u001b[0m \u001b[1;33m)\u001b[0m\u001b[1;33m\u001b[0m\u001b[1;33m\u001b[0m\u001b[0m\n",
      "\u001b[1;31mTypeError\u001b[0m: 'int' object is not callable"
     ]
    }
   ],
   "metadata": {}
  },
  {
   "cell_type": "code",
   "execution_count": null,
   "source": [
    "fp_while = lambda pred, fun, acc \\\n",
    "    : (lambda val: fp_while(pred, fun, val) if pred(val) else val)  ( fun(acc) )"
   ],
   "outputs": [],
   "metadata": {}
  },
  {
   "cell_type": "code",
   "execution_count": 1,
   "source": [
    "def fp_while( pred, fun, acc) :\n",
    "    def func(pred, fun, acc) :\n",
    "        val = fun(acc)\n",
    "        if pred(val) :\n",
    "            return fp_while(pred, fun, val) \n",
    "        return val \n",
    "    return func (pred, fun, acc)\n",
    "\n",
    "def condition(x) :\n",
    "    print ( 'condition' , x )\n",
    "    if x < 3 :\n",
    "        return True\n",
    "    return False\n",
    "\n",
    "def add_one(x) :\n",
    "    print ( 'add_one' , x )\n",
    "    return x + 1\n",
    "\n",
    "print ( fp_while( condition, add_one, 1) ) "
   ],
   "outputs": [
    {
     "output_type": "stream",
     "name": "stdout",
     "text": [
      "add_one 1\n",
      "condition 2\n",
      "add_one 2\n",
      "condition 3\n",
      "3\n"
     ]
    }
   ],
   "metadata": {}
  },
  {
   "cell_type": "code",
   "execution_count": 2,
   "source": [
    "def fp_while( pred, fun, acc) :\n",
    "    val = fun(acc)\n",
    "    if pred(val) :\n",
    "        return fp_while(pred, fun, val) \n",
    "    return val \n",
    "\n",
    "def condition(x) :\n",
    "    print ( 'condition' , x )\n",
    "    if x < 3 :\n",
    "        return True\n",
    "    return False\n",
    "\n",
    "def add_one(x) :\n",
    "    print ( 'add_one' , x )\n",
    "    return x + 1\n",
    "\n",
    "print ( fp_while( condition, add_one, 1) ) "
   ],
   "outputs": [
    {
     "output_type": "stream",
     "name": "stdout",
     "text": [
      "add_one 1\n",
      "condition 2\n",
      "add_one 2\n",
      "condition 3\n",
      "3\n"
     ]
    }
   ],
   "metadata": {}
  },
  {
   "cell_type": "code",
   "execution_count": null,
   "source": [
    "def curry(func) :\n",
    "    def curried (*args, **kwargs) :\n",
    "        def f(*args2, **kwargs2) :\n",
    "            nonlocal args, kwargs \n",
    "            args += args2\n",
    "            kwargs.update(kwargs2)\n",
    "            return curried(*args, **kwargs)\n",
    "\n",
    "        if len(args) + len(kwargs) >= func.__code__.co_argcount :\n",
    "            result = func(*args, **kwargs)\n",
    "            args, kwargs = [], {}\n",
    "            return result \n",
    "        else :\n",
    "            return f\n",
    "    return curried\n",
    "\n",
    "@curry\n",
    "def reduce(f, acc) :\n",
    "    acc = iter(acc)\n",
    "    initate = next(acc)\n",
    "    for a in acc :\n",
    "        initate = f(initate, a)\n",
    "    return initate\n",
    "\n",
    "@curry \n",
    "def map(f, iterable) :\n",
    "    result = []\n",
    "    for i in iterable :\n",
    "        result.append(f(i) )\n",
    "    return result \n",
    "\n",
    "@curry\n",
    "def fp_while( pred, fun, acc) :\n",
    "    val = fun(acc)\n",
    "    if pred(val) :\n",
    "        return fp_while(pred, fun, val) \n",
    "    return val \n",
    "\n",
    "def go(*args):\n",
    "    def func(a, f) :\n",
    "        return f(a)\n",
    "    return reduce(func, args)"
   ],
   "outputs": [],
   "metadata": {}
  },
  {
   "cell_type": "code",
   "execution_count": null,
   "source": [
    "while deq :\n",
    "    x = deq.popleft()\n",
    "    if x == K :\n",
    "        while x != N :\n",
    "            ans.append(x)\n",
    "            x = move[x]\n",
    "        ans.append(N)\n",
    "        ans.reverse()\n",
    "        break\n",
    "    else :\n",
    "        for i in (x + 1, x - 1, x*2) :\n",
    "            if 0<= i <= 100000 and dist[i] == 0 :\n",
    "                dist[i] = dist[x] + 1\n",
    "                move[i] = x\n",
    "                deq.append(i)"
   ],
   "outputs": [],
   "metadata": {}
  },
  {
   "cell_type": "code",
   "execution_count": null,
   "source": [
    "dist = [0] * 100001\n",
    "move = [0] * 100001\n",
    "deq = deque()\n",
    "deq.append(N)\n",
    "ans = []\n",
    "\n",
    "def condition(x):\n",
    "    return True if x else False \n",
    "\n",
    "def start(deq) :\n",
    "    x = deq.popleft()\n",
    "    if x == K :\n",
    "        while x != N :\n",
    "            ans.append(x)\n",
    "            x = move[x]\n",
    "        ans.append(N)\n",
    "        ans.reverse()\n",
    "        break\n",
    "    else :\n",
    "        for i in (x + 1, x - 1, x*2) :\n",
    "            if 0<= i <= 100000 and dist[i] == 0 :\n",
    "                dist[i] = dist[x] + 1\n",
    "                move[i] = x\n",
    "                deq.append(i)\n",
    "    return deq \n",
    "\n",
    "go( \n",
    "    deq,\n",
    "    fp_while(condition)(\n",
    "        start\n",
    "        \n",
    "        ),\n",
    ")\n"
   ],
   "outputs": [],
   "metadata": {}
  }
 ]
}