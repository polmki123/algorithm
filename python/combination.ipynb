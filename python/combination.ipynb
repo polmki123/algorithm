{
 "metadata": {
  "language_info": {
   "codemirror_mode": {
    "name": "ipython",
    "version": 3
   },
   "file_extension": ".py",
   "mimetype": "text/x-python",
   "name": "python",
   "nbconvert_exporter": "python",
   "pygments_lexer": "ipython3",
   "version": "3.8.5"
  },
  "orig_nbformat": 4,
  "kernelspec": {
   "name": "python3",
   "display_name": "Python 3.8.5 32-bit ('Creon': conda)"
  },
  "interpreter": {
   "hash": "b9104f2f44279cb2c30c5b98b34c8acc42e1f8d9759405ca0693162d118dfdf9"
  }
 },
 "nbformat": 4,
 "nbformat_minor": 2,
 "cells": [
  {
   "cell_type": "code",
   "execution_count": null,
   "source": [],
   "outputs": [],
   "metadata": {}
  },
  {
   "cell_type": "code",
   "execution_count": 11,
   "source": [
    "def curry(func) :\r\n",
    "    def curried (*args, **kwargs) :\r\n",
    "        def f(*args2, **kwargs2) :\r\n",
    "            nonlocal args, kwargs \r\n",
    "            args += args2\r\n",
    "            kwargs.update(kwargs2)\r\n",
    "            return curried(*args, **kwargs)\r\n",
    "\r\n",
    "        if len(args) + len(kwargs) >= func.__code__.co_argcount :\r\n",
    "            result = func(*args, **kwargs)\r\n",
    "            args, kwargs = [], {}\r\n",
    "            return result \r\n",
    "        else :\r\n",
    "            return f\r\n",
    "    return curried\r\n",
    "\r\n",
    "@curry\r\n",
    "def reduce(f, acc) :\r\n",
    "    acc = iter(acc)\r\n",
    "    initate = next(acc)\r\n",
    "    for a in acc :\r\n",
    "        initate = f(initate, a)\r\n",
    "    return initate\r\n",
    "\r\n",
    "def go(*args):\r\n",
    "    def func(a, f) :\r\n",
    "        return f(a)\r\n",
    "    return reduce(func, args)"
   ],
   "outputs": [],
   "metadata": {}
  },
  {
   "cell_type": "code",
   "execution_count": 14,
   "source": [
    "@curry \r\n",
    "def combination (numbers) :\r\n",
    "    if len(numbers) == 0 :\r\n",
    "        return [[ ]]\r\n",
    "    first = numbers[0]\r\n",
    "    rest = numbers[1:]\r\n",
    "    com_without_first = combination(rest)\r\n",
    "    \r\n",
    "    com_with_first = []\r\n",
    "\r\n",
    "    for cwf in com_without_first:\r\n",
    "        _com_with_first = [ *cwf, first]\r\n",
    "        com_with_first.append( _com_with_first )\r\n",
    "        print( \"combination :\", *com_with_first)\r\n",
    "    \r\n",
    "\r\n",
    "    return [ *com_without_first, *com_with_first ]\r\n",
    "\r\n",
    "print(combination([1,2,3,4]))"
   ],
   "outputs": [
    {
     "output_type": "stream",
     "name": "stdout",
     "text": [
      "combination : [4]\n",
      "combination : [3]\n",
      "combination : [3] [4, 3]\n",
      "combination : [2]\n",
      "combination : [2] [4, 2]\n",
      "combination : [2] [4, 2] [3, 2]\n",
      "combination : [2] [4, 2] [3, 2] [4, 3, 2]\n",
      "combination : [1]\n",
      "combination : [1] [4, 1]\n",
      "combination : [1] [4, 1] [3, 1]\n",
      "combination : [1] [4, 1] [3, 1] [4, 3, 1]\n",
      "combination : [1] [4, 1] [3, 1] [4, 3, 1] [2, 1]\n",
      "combination : [1] [4, 1] [3, 1] [4, 3, 1] [2, 1] [4, 2, 1]\n",
      "combination : [1] [4, 1] [3, 1] [4, 3, 1] [2, 1] [4, 2, 1] [3, 2, 1]\n",
      "combination : [1] [4, 1] [3, 1] [4, 3, 1] [2, 1] [4, 2, 1] [3, 2, 1] [4, 3, 2, 1]\n",
      "[[], [4], [3], [4, 3], [2], [4, 2], [3, 2], [4, 3, 2], [1], [4, 1], [3, 1], [4, 3, 1], [2, 1], [4, 2, 1], [3, 2, 1], [4, 3, 2, 1]]\n"
     ]
    }
   ],
   "metadata": {}
  },
  {
   "cell_type": "code",
   "execution_count": 3,
   "source": [
    "@curry \r\n",
    "def combination (numbers) :\r\n",
    "    if len(numbers) == 0 :\r\n",
    "        return [[ ]]\r\n",
    "    first = numbers[0]\r\n",
    "    rest = numbers[1:]\r\n",
    "    com_without_first = combination(rest)\r\n",
    "    print( \"com_without_first\" , com_without_first )\r\n",
    "    com_with_first = []\r\n",
    "\r\n",
    "    com_with_first = map( lambda x : [*x, first], com_without_first)\r\n",
    "    \r\n",
    "    return [ *com_without_first, *com_with_first ]\r\n",
    "\r\n",
    "go(\r\n",
    "    [1,2,3,4],\r\n",
    "    combination,\r\n",
    "    print\r\n",
    ")"
   ],
   "outputs": [
    {
     "output_type": "stream",
     "name": "stdout",
     "text": [
      "com_without_first [[]]\n",
      "com_without_first [[], [4]]\n",
      "com_without_first [[], [4], [3], [4, 3]]\n",
      "com_without_first [[], [4], [3], [4, 3], [2], [4, 2], [3, 2], [4, 3, 2]]\n",
      "[[], [4], [3], [4, 3], [2], [4, 2], [3, 2], [4, 3, 2], [1], [4, 1], [3, 1], [4, 3, 1], [2, 1], [4, 2, 1], [3, 2, 1], [4, 3, 2, 1]]\n"
     ]
    }
   ],
   "metadata": {}
  },
  {
   "cell_type": "code",
   "execution_count": 1,
   "source": [
    "def curry(func) :\r\n",
    "\r\n",
    "    def curried (*args, **kwagrs) :\r\n",
    "\r\n",
    "        def f(*args2, **kwagrs2) :\r\n",
    "            nonlocal args, kwagrs \r\n",
    "            args += args2\r\n",
    "            kwagrs.update(kwagrs)\r\n",
    "            return curried(*args, **kwagrs)\r\n",
    "\r\n",
    "        if len(args) + len(kwagrs) >= func.__code__.co_argcount :\r\n",
    "            return func(*args, **kwagrs)\r\n",
    "        \r\n",
    "        return f\r\n",
    "    \r\n",
    "    return curried\r\n",
    "\r\n",
    "@curry\r\n",
    "def reduce( f, iterable ) :\r\n",
    "    iterable = iter(iterable)\r\n",
    "    acc = next(iterable)\r\n",
    "    print(f, iterable)\r\n",
    "    for _iter in iterable:\r\n",
    "        print(f, acc, _iter)\r\n",
    "        acc = f(acc, _iter)\r\n",
    "    return acc\r\n",
    "\r\n",
    "@curry\r\n",
    "def go(*args) :\r\n",
    "    def func(a, f):\r\n",
    "        return f(a)\r\n",
    "    return reduce( func, args )\r\n"
   ],
   "outputs": [],
   "metadata": {}
  },
  {
   "cell_type": "code",
   "execution_count": 20,
   "source": [
    "@curry \r\n",
    "def map( f, iterable) :\r\n",
    "    result = []\r\n",
    "    for _i in iterable :\r\n",
    "        print(f, _i )\r\n",
    "        result.append(f(_i))\r\n",
    "    return result \r\n",
    "\r\n",
    "@curry \r\n",
    "def flat( iterable ) :\r\n",
    "    for _iter in iterable.values() :\r\n",
    "        if (_iter and iter(_iter)) :\r\n",
    "            for i in _iter :\r\n",
    "                yield i\r\n",
    "        else :\r\n",
    "            yield _iter \r\n",
    "\r\n",
    "payments = {\r\n",
    "    '0' : [ {'iid' : 11, 'oid' : 1}, {'iid' : 12, 'oid' : 2}, {'iid' : 13, 'oid' : 3} ],\r\n",
    "    '1' : [ {'iid' : 14, 'oid' : 4}, {'iid' : 15, 'oid' : 5}, {'iid' : 16, 'oid' : 6} ],\r\n",
    "    '2' : [ {'iid' : 17, 'oid' : 7}, {'iid' : 18, 'oid' : 8} ],\r\n",
    "  }\r\n",
    "\r\n",
    "go(\r\n",
    "    payments,\r\n",
    "    flat,\r\n",
    "    map( lambda x : x['oid'] )\r\n",
    ")"
   ],
   "outputs": [
    {
     "output_type": "stream",
     "name": "stdout",
     "text": [
      "<function go.<locals>.func at 0x01921B68> <tuple_iterator object at 0x074AD760>\n",
      "<function go.<locals>.func at 0x01921B68> {'0': [{'iid': 11, 'oid': 1}, {'iid': 12, 'oid': 2}, {'iid': 13, 'oid': 3}], '1': [{'iid': 14, 'oid': 4}, {'iid': 15, 'oid': 5}, {'iid': 16, 'oid': 6}], '2': [{'iid': 17, 'oid': 7}, {'iid': 18, 'oid': 8}]} <function curry.<locals>.curried at 0x07201808>\n",
      "<function go.<locals>.func at 0x01921B68> <generator object flat at 0x0745ACD8> <function curry.<locals>.curried.<locals>.f at 0x07201970>\n",
      "<function <lambda> at 0x07201BB0> {'iid': 11, 'oid': 1}\n",
      "<function <lambda> at 0x07201BB0> {'iid': 12, 'oid': 2}\n",
      "<function <lambda> at 0x07201BB0> {'iid': 13, 'oid': 3}\n",
      "<function <lambda> at 0x07201BB0> {'iid': 14, 'oid': 4}\n",
      "<function <lambda> at 0x07201BB0> {'iid': 15, 'oid': 5}\n",
      "<function <lambda> at 0x07201BB0> {'iid': 16, 'oid': 6}\n",
      "<function <lambda> at 0x07201BB0> {'iid': 17, 'oid': 7}\n",
      "<function <lambda> at 0x07201BB0> {'iid': 18, 'oid': 8}\n"
     ]
    },
    {
     "output_type": "execute_result",
     "data": {
      "text/plain": [
       "[1, 2, 3, 4, 5, 6, 7, 8]"
      ]
     },
     "metadata": {},
     "execution_count": 20
    }
   ],
   "metadata": {}
  },
  {
   "cell_type": "code",
   "execution_count": 25,
   "source": [
    "@curry\r\n",
    "def combination( numbers ) :\r\n",
    "    if len(numbers) < 1 :\r\n",
    "        return [[]]\r\n",
    "    comb_first = numbers[0]\r\n",
    "    comb_remain = combination(numbers[1:])\r\n",
    "    com_first_with_remain = map( lambda x : [*x, comb_first], comb_remain )\r\n",
    "\r\n",
    "    return [ *com_first_with_remain, *comb_remain] \r\n",
    "\r\n",
    "go(\r\n",
    "    [1,2,3,4],\r\n",
    "    combination\r\n",
    ")"
   ],
   "outputs": [
    {
     "output_type": "stream",
     "name": "stdout",
     "text": [
      "<function go.<locals>.func at 0x075C2F10> <tuple_iterator object at 0x072FC9D0>\n",
      "<function go.<locals>.func at 0x075C2F10> [1, 2, 3, 4] <function curry.<locals>.curried at 0x075C2B68>\n",
      "<function combination.<locals>.<lambda> at 0x073184A8> []\n",
      "<function combination.<locals>.<lambda> at 0x07318B68> [4]\n",
      "<function combination.<locals>.<lambda> at 0x07318B68> []\n",
      "<function combination.<locals>.<lambda> at 0x073186E8> [4, 3]\n",
      "<function combination.<locals>.<lambda> at 0x073186E8> [3]\n",
      "<function combination.<locals>.<lambda> at 0x073186E8> [4]\n",
      "<function combination.<locals>.<lambda> at 0x073186E8> []\n",
      "<function combination.<locals>.<lambda> at 0x07318538> [4, 3, 2]\n",
      "<function combination.<locals>.<lambda> at 0x07318538> [3, 2]\n",
      "<function combination.<locals>.<lambda> at 0x07318538> [4, 2]\n",
      "<function combination.<locals>.<lambda> at 0x07318538> [2]\n",
      "<function combination.<locals>.<lambda> at 0x07318538> [4, 3]\n",
      "<function combination.<locals>.<lambda> at 0x07318538> [3]\n",
      "<function combination.<locals>.<lambda> at 0x07318538> [4]\n",
      "<function combination.<locals>.<lambda> at 0x07318538> []\n"
     ]
    },
    {
     "output_type": "execute_result",
     "data": {
      "text/plain": [
       "[[4, 3, 2, 1],\n",
       " [3, 2, 1],\n",
       " [4, 2, 1],\n",
       " [2, 1],\n",
       " [4, 3, 1],\n",
       " [3, 1],\n",
       " [4, 1],\n",
       " [1],\n",
       " [4, 3, 2],\n",
       " [3, 2],\n",
       " [4, 2],\n",
       " [2],\n",
       " [4, 3],\n",
       " [3],\n",
       " [4],\n",
       " []]"
      ]
     },
     "metadata": {},
     "execution_count": 25
    }
   ],
   "metadata": {}
  },
  {
   "cell_type": "code",
   "execution_count": 9,
   "source": [
    "from itertools import permutations, combinations\r\n",
    "\r\n",
    "arr = [1,2,3,4]\r\n",
    "nPr = combinations(arr,2)\r\n",
    "print(list(nPr))\r\n",
    "nPr = combinations(arr,3)\r\n",
    "print(list(nPr))\r\n",
    "nPr = combinations(arr,4)\r\n",
    "print(list(nPr))\r\n"
   ],
   "outputs": [
    {
     "output_type": "stream",
     "name": "stdout",
     "text": [
      "[(1, 2), (1, 3), (1, 4), (2, 3), (2, 4), (3, 4)]\n",
      "[(1, 2, 3), (1, 2, 4), (1, 3, 4), (2, 3, 4)]\n",
      "[(1, 2, 3, 4)]\n"
     ]
    }
   ],
   "metadata": {}
  }
 ]
}