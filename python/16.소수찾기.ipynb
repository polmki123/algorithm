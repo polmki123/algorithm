{
 "cells": [
  {
   "cell_type": "code",
   "execution_count": 10,
   "source": [
    "\r\n",
    "def point(n) :\r\n",
    "    solve = [True] * (n + 1)\r\n",
    "    solve[1] = False\r\n",
    "    m = n**0.5\r\n",
    "    for i in range(2, int(m) +1) :\r\n",
    "        if solve[i] == True :\r\n",
    "            for j in range( i*i, n + 1, i) :\r\n",
    "                solve[j] = False\r\n",
    "    return solve\r\n",
    "\r\n",
    "N = int(input())\r\n",
    "K = list(map(int, input().split()))\r\n",
    "\r\n",
    "solve = point(max(K))\r\n",
    "ans = []\r\n",
    "for i in K :\r\n",
    "    if solve[i] == True:\r\n",
    "        ans.append(i)\r\n",
    "\r\n",
    "print(len(ans))"
   ],
   "outputs": [
    {
     "output_type": "stream",
     "name": "stdout",
     "text": [
      "2\n",
      "1\n"
     ]
    }
   ],
   "metadata": {}
  },
  {
   "cell_type": "code",
   "execution_count": null,
   "source": [
    "\r\n",
    "def point(n) :\r\n",
    "    solve = [True] * (n + 1)\r\n",
    "    solve[1] = False\r\n",
    "    m = n**0.5\r\n",
    "    for i in range(2, int(m) +1) :\r\n",
    "        if solve[i] == True :\r\n",
    "            for j in range( i*i, n + 1, i) :\r\n",
    "                solve[j] = False\r\n",
    "    return solve\r\n",
    "\r\n",
    "N = int(input())\r\n",
    "M = int(input())\r\n",
    "\r\n",
    "solve = point(M)\r\n",
    "ans = []\r\n",
    "for i in range(N, M+1) :\r\n",
    "    if solve[i] == True:\r\n",
    "        ans.append(i)\r\n",
    "\r\n",
    "if len(ans) > 0 :\r\n",
    "    print(sum(ans), ans[0])\r\n",
    "else :\r\n",
    "    print(-1)"
   ],
   "outputs": [],
   "metadata": {}
  }
 ],
 "metadata": {
  "orig_nbformat": 4,
  "language_info": {
   "name": "python",
   "version": "3.6.10",
   "mimetype": "text/x-python",
   "codemirror_mode": {
    "name": "ipython",
    "version": 3
   },
   "pygments_lexer": "ipython3",
   "nbconvert_exporter": "python",
   "file_extension": ".py"
  },
  "kernelspec": {
   "name": "python3",
   "display_name": "Python 3.6.10 32-bit ('Creon': conda)"
  },
  "interpreter": {
   "hash": "9635ca3d6d5f11656583d6eb63f4b0aef68d4d14b39e0cdfbcfd3fa05a10e097"
  }
 },
 "nbformat": 4,
 "nbformat_minor": 2
}