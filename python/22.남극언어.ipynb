{
 "cells": [
  {
   "cell_type": "code",
   "execution_count": 6,
   "source": [
    "from itertools import *\r\n",
    "from sys import *\r\n",
    "'''\r\n",
    "9 8\r\n",
    "antabtica\r\n",
    "antaxtica\r\n",
    "antadtica\r\n",
    "antaetica\r\n",
    "antaftica\r\n",
    "antagtica\r\n",
    "antahtica\r\n",
    "antajtica\r\n",
    "antaktica\r\n",
    "\r\n",
    "3 6\r\n",
    "antarctica\r\n",
    "antahellotica\r\n",
    "antacartica\r\n",
    "\r\n",
    "'''\r\n",
    "# input = stdin.readline\r\n",
    "N, K = map(int, input().split())\r\n",
    "word = []\r\n",
    "all_word = set()\r\n",
    "for i in range(N) :\r\n",
    "    Temp = set(input().rstrip()[4:-4]) - {'a', 'n', 't', 'i', 'c'}\r\n",
    "    all_word.update( Temp )\r\n",
    "    word.append( Temp )\r\n",
    "\r\n",
    "ans = [0]\r\n",
    "\r\n",
    "def solve( si_word ):\r\n",
    "    for _c in combinations( si_word, K - 5 ) :\r\n",
    "        T_ans = 0\r\n",
    "        for _w in word :\r\n",
    "            T_ans = T_ans + 1 if not _w - set(_c) else T_ans\r\n",
    "        ans[0] = max(T_ans, ans[0])\r\n",
    "\r\n",
    "if K > 5 : solve(all_word)\r\n",
    "print(*ans)"
   ],
   "outputs": [
    {
     "output_type": "stream",
     "name": "stdout",
     "text": [
      "3\n"
     ]
    }
   ],
   "metadata": {}
  },
  {
   "cell_type": "code",
   "execution_count": 29,
   "source": [
    "from itertools import combinations\r\n",
    "n, k = map(int, input().split())\r\n",
    "if k < 5:\r\n",
    "    print(0)\r\n",
    "else:\r\n",
    "    k -= 5\r\n",
    "    nece_chars = {'a', 'n', 't', 'i', 'c'}\r\n",
    "    input_chars = []\r\n",
    "    alpha = {ky: v for v, ky in enumerate(\r\n",
    "        (set(map(chr, range(ord('a'), ord('z')+1))) - nece_chars))}\r\n",
    "    cnt = 0\r\n",
    "    for _ in range(n):\r\n",
    "        tmp = 0\r\n",
    "        for c in set(input())-nece_chars:\r\n",
    "            tmp |= (1 << alpha[c])\r\n",
    "        input_chars.append(tmp)\r\n",
    "    power_by_2 = (2**i for i in range(21))\r\n",
    "    for comb in combinations(power_by_2, k):\r\n",
    "        test = sum(comb)\r\n",
    "\r\n",
    "        ct = 0\r\n",
    "        for cb in input_chars:\r\n",
    "            if test & cb == cb:\r\n",
    "                ct += 1\r\n",
    "\r\n",
    "        cnt = max(cnt, ct)\r\n",
    "    print(cnt)"
   ],
   "outputs": [
    {
     "output_type": "execute_result",
     "data": {
      "text/plain": [
       "{'d', 'f', 's'}"
      ]
     },
     "metadata": {},
     "execution_count": 29
    }
   ],
   "metadata": {}
  },
  {
   "cell_type": "code",
   "execution_count": 7,
   "source": [
    "nece_chars = {'a', 'n', 't', 'i', 'c'}\r\n",
    "\r\n",
    "alpha = {ky: v for v, ky in enumerate(\r\n",
    "        (set(map(chr, range(ord('a'), ord('z')+1))) - nece_chars))}\r\n",
    "\r\n",
    "alpha"
   ],
   "outputs": [
    {
     "output_type": "execute_result",
     "data": {
      "text/plain": [
       "{'g': 0,\n",
       " 's': 1,\n",
       " 'y': 2,\n",
       " 'r': 3,\n",
       " 'q': 4,\n",
       " 'm': 5,\n",
       " 'u': 6,\n",
       " 'h': 7,\n",
       " 'o': 8,\n",
       " 'f': 9,\n",
       " 'w': 10,\n",
       " 'z': 11,\n",
       " 'x': 12,\n",
       " 'p': 13,\n",
       " 'v': 14,\n",
       " 'l': 15,\n",
       " 'j': 16,\n",
       " 'e': 17,\n",
       " 'd': 18,\n",
       " 'k': 19,\n",
       " 'b': 20}"
      ]
     },
     "metadata": {},
     "execution_count": 7
    }
   ],
   "metadata": {}
  },
  {
   "cell_type": "code",
   "execution_count": 16,
   "source": [
    "for j, a in enumerate([[1,2],[3,4]]) :\r\n",
    "    print(j,a)\r\n",
    "\r\n",
    "\r\n",
    "a,b =[1,2]\r\n",
    "print(a,b)"
   ],
   "outputs": [
    {
     "output_type": "stream",
     "name": "stdout",
     "text": [
      "0 [1, 2]\n",
      "1 [3, 4]\n",
      "1 2\n"
     ]
    }
   ],
   "metadata": {}
  },
  {
   "cell_type": "code",
   "execution_count": 20,
   "source": [
    "a = [0]\r\n",
    "a += [0]\r\n",
    "a = '1234'\r\n",
    "a[1:4]\r\n",
    "\r\n",
    "for i in range(10):\r\n",
    "    i = i+3\r\n",
    "    print(i)"
   ],
   "outputs": [
    {
     "output_type": "stream",
     "name": "stdout",
     "text": [
      "3\n",
      "4\n",
      "5\n",
      "6\n",
      "7\n",
      "8\n",
      "9\n",
      "10\n",
      "11\n",
      "12\n"
     ]
    }
   ],
   "metadata": {}
  }
 ],
 "metadata": {
  "orig_nbformat": 4,
  "language_info": {
   "name": "python",
   "version": "3.6.10",
   "mimetype": "text/x-python",
   "codemirror_mode": {
    "name": "ipython",
    "version": 3
   },
   "pygments_lexer": "ipython3",
   "nbconvert_exporter": "python",
   "file_extension": ".py"
  },
  "kernelspec": {
   "name": "python3",
   "display_name": "Python 3.6.10 32-bit ('Creon': conda)"
  },
  "interpreter": {
   "hash": "9635ca3d6d5f11656583d6eb63f4b0aef68d4d14b39e0cdfbcfd3fa05a10e097"
  }
 },
 "nbformat": 4,
 "nbformat_minor": 2
}