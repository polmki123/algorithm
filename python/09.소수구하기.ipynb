{
 "cells": [
  {
   "cell_type": "code",
   "execution_count": 10,
   "source": [
    "N, K = map(int, input().split())\r\n",
    "\r\n",
    "result = [ i for i in range(1,N+1) if N%i == 0]\r\n",
    "\r\n",
    "\r\n",
    "print( result[K-1] if len(result) > K  else 0 )"
   ],
   "outputs": [
    {
     "output_type": "stream",
     "name": "stdout",
     "text": [
      "0\n"
     ]
    }
   ],
   "metadata": {}
  },
  {
   "cell_type": "code",
   "execution_count": 6,
   "source": [
    "N = 10\r\n",
    "result = [ i for i in range(1,N+1) if N%i == 0]\r\n",
    "print(result)"
   ],
   "outputs": [
    {
     "output_type": "stream",
     "name": "stdout",
     "text": [
      "[1, 2, 5, 10]\n"
     ]
    }
   ],
   "metadata": {}
  }
 ],
 "metadata": {
  "orig_nbformat": 4,
  "language_info": {
   "name": "python",
   "version": "3.7.9",
   "mimetype": "text/x-python",
   "codemirror_mode": {
    "name": "ipython",
    "version": 3
   },
   "pygments_lexer": "ipython3",
   "nbconvert_exporter": "python",
   "file_extension": ".py"
  },
  "kernelspec": {
   "name": "python3",
   "display_name": "Python 3.7.9 32-bit"
  },
  "interpreter": {
   "hash": "f14bb1ed52f05df056044f2c83c27dec742a7a806f1303b49060e034bb457352"
  }
 },
 "nbformat": 4,
 "nbformat_minor": 2
}