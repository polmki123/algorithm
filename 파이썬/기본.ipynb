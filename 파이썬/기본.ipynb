{
 "metadata": {
  "language_info": {
   "codemirror_mode": {
    "name": "ipython",
    "version": 3
   },
   "file_extension": ".py",
   "mimetype": "text/x-python",
   "name": "python",
   "nbconvert_exporter": "python",
   "pygments_lexer": "ipython3",
   "version": "3.7.5"
  },
  "orig_nbformat": 4,
  "kernelspec": {
   "name": "python3",
   "display_name": "Python 3.7.5 64-bit ('CoinCal': conda)"
  },
  "interpreter": {
   "hash": "206d74a3dae100064d0e15216ee503d6ff9233a14d3cdcad66ad93295784e148"
  }
 },
 "nbformat": 4,
 "nbformat_minor": 2,
 "cells": [
  {
   "cell_type": "code",
   "execution_count": 9,
   "source": [
    "a = map(lambda x : x +5, [1,2,3,4])\r\n",
    "print(*a)"
   ],
   "outputs": [
    {
     "output_type": "stream",
     "name": "stdout",
     "text": [
      "6 7 8 9\n"
     ]
    }
   ],
   "metadata": {}
  }
 ]
}