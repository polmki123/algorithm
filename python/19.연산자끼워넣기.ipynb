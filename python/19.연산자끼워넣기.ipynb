{
 "cells": [
  {
   "cell_type": "code",
   "execution_count": 1,
   "source": [
    "import copy\r\n",
    "import sys\r\n",
    "\r\n",
    "# input = sys.stdin.readline\r\n",
    "\r\n",
    "N = int(input())\r\n",
    "K = list( map(int, input().split()) )\r\n",
    "J = list( map(int, input().split()) )\r\n",
    "\r\n",
    "op = []\r\n",
    "for i, p in enumerate(['+', '-', '*', '/']) :\r\n",
    "    op.extend([ p for j in range( J[i] ) ])\r\n",
    "\r\n",
    "acc = [ 0, float('inf') ]\r\n",
    "ans = []\r\n",
    "def dfs( op, count, sum_dfs) :\r\n",
    "    if len(op) == 0:\r\n",
    "        ans.append(sum_dfs)\r\n",
    "        if sum_dfs > acc[0] : acc[0] = sum_dfs\r\n",
    "        if sum_dfs < acc[1] : acc[1] = sum_dfs\r\n",
    "        return\r\n",
    "\r\n",
    "    for i in range(0, len(op)) :\r\n",
    "        _op = copy.deepcopy(op)\r\n",
    "        _op.remove(op[i])\r\n",
    "        Temp = sum_dfs\r\n",
    "        if op[i] == '+': Temp += K[count]\r\n",
    "        if op[i] == '-': Temp -= K[count]\r\n",
    "        if op[i] == '*': Temp *= K[count]\r\n",
    "        if op[i] == '/': Temp = int(Temp/K[count])\r\n",
    "        dfs( _op, count+1, Temp )\r\n",
    "\r\n",
    "dfs(op, 1, K[0])\r\n",
    "\r\n",
    "print(acc[0])\r\n",
    "print(acc[1])\r\n",
    "print(len(ans))"
   ],
   "outputs": [
    {
     "output_type": "stream",
     "name": "stdout",
     "text": [
      "54\n",
      "-24\n",
      "120\n"
     ]
    }
   ],
   "metadata": {}
  },
  {
   "cell_type": "code",
   "execution_count": 36,
   "source": [
    "import copy\r\n",
    "import sys\r\n",
    "\r\n",
    "input = sys.stdin.readline\r\n",
    "\r\n",
    "N = int(input())\r\n",
    "K = list( map(int, input().split()) )\r\n",
    "J = list( map(int, input().split()) )\r\n",
    "\r\n",
    "op = []\r\n",
    "for i, p in enumerate(['+', '-', '*', '/']) :\r\n",
    "    op.extend([ p for j in range( J[i] ) ])\r\n",
    "\r\n",
    "acc = [ 0, float('inf') ]\r\n",
    "rl = []\r\n",
    "\r\n",
    "def dfs( op, sum_dfs) :\r\n",
    "    if len(op) == 0:\r\n",
    "        sum_dfs = K[0]\r\n",
    "        for i in range(1, len(K)) :\r\n",
    "            if rl[i-1] == '+': sum_dfs += K[i]\r\n",
    "            if rl[i-1] == '-': sum_dfs -= K[i]\r\n",
    "            if rl[i-1] == '*': sum_dfs *= K[i]\r\n",
    "            if rl[i-1] == '/': sum_dfs /= K[i]\r\n",
    "            sum_dfs = int( sum_dfs )\r\n",
    "            # exec('sum_dfs = sum_dfs' + rl[i-1] + ' K[i]')\r\n",
    "        if sum_dfs > acc[0] : acc[0] = sum_dfs\r\n",
    "        if sum_dfs < acc[1] : acc[1] = sum_dfs\r\n",
    "        return\r\n",
    "\r\n",
    "    for i in range(0, len(op)) :\r\n",
    "        _op = copy.deepcopy(op)\r\n",
    "        _op.remove(op[i])\r\n",
    "        rl.append( op[i] )\r\n",
    "        dfs( _op)\r\n",
    "        rl.pop()\r\n",
    "\r\n",
    "dfs(op)\r\n",
    "\r\n",
    "print(acc[0])\r\n",
    "print(acc[1])"
   ],
   "outputs": [
    {
     "output_type": "stream",
     "name": "stdout",
     "text": [
      "54\n",
      "-24\n"
     ]
    }
   ],
   "metadata": {}
  },
  {
   "cell_type": "code",
   "execution_count": 1,
   "source": [
    "from itertools import *\r\n",
    "import sys\r\n",
    "\r\n",
    "# input = sys.stdin.readline\r\n",
    "N = int(input())\r\n",
    "K = list( map(int, input().split()) )\r\n",
    "J = list( map(int, input().split()) )\r\n",
    "\r\n",
    "op = []\r\n",
    "for i, p in enumerate(['+', '-', '*', '/']) :\r\n",
    "    op.extend([ p for j in range( J[i] ) ])\r\n",
    "\r\n",
    "acc = [ -float('inf'), float('inf') ]\r\n",
    "\r\n",
    "def solve() :\r\n",
    "    for p in set(permutations( op, len(op))): \r\n",
    "        sum_dfs = K[0]\r\n",
    "        for i, _p in enumerate(p) :\r\n",
    "            # exec( 'sum_dfs' + op[_p] + '=K[i+1]' )\r\n",
    "            # sum_dfs = int(eval( 'sum_dfs' + op[_p] +'K[i+1]' ))\r\n",
    "            if _p == '+': sum_dfs += K[i+1]\r\n",
    "            if _p == '-': sum_dfs -= K[i+1]\r\n",
    "            if _p == '*': sum_dfs *= K[i+1]\r\n",
    "            if _p == '/': sum_dfs /= K[i+1]\r\n",
    "            sum_dfs = int(sum_dfs)\r\n",
    "        if sum_dfs > acc[0] : acc[0] = sum_dfs\r\n",
    "        if sum_dfs < acc[1] : acc[1] = sum_dfs\r\n",
    "\r\n",
    "solve()\r\n",
    "\r\n",
    "print(acc[0])\r\n",
    "print(acc[1])"
   ],
   "outputs": [
    {
     "output_type": "stream",
     "name": "stdout",
     "text": [
      "54\n",
      "-24\n"
     ]
    }
   ],
   "metadata": {}
  },
  {
   "cell_type": "code",
   "execution_count": 3,
   "source": [
    "len(list(permutations( op, len(op))))"
   ],
   "outputs": [
    {
     "output_type": "execute_result",
     "data": {
      "text/plain": [
       "120"
      ]
     },
     "metadata": {},
     "execution_count": 3
    }
   ],
   "metadata": {}
  },
  {
   "cell_type": "code",
   "execution_count": null,
   "source": [
    "import sys\r\n",
    "\r\n",
    "input = sys.stdin.readline\r\n",
    "N = int(input())\r\n",
    "num = list(map(int, input().split()))\r\n",
    "op = list(map(int, input().split()))  # +, -, *, //\r\n",
    "\r\n",
    "maximum = -1e9\r\n",
    "minimum = 1e9\r\n",
    "\r\n",
    "\r\n",
    "def dfs(depth, total, plus, minus, multiply, divide):\r\n",
    "    global maximum, minimum\r\n",
    "    if depth == N:\r\n",
    "        maximum = max(total, maximum)\r\n",
    "        minimum = min(total, minimum)\r\n",
    "        return\r\n",
    "\r\n",
    "    if plus:\r\n",
    "        dfs(depth + 1, total + num[depth], plus - 1, minus, multiply, divide)\r\n",
    "    if minus:\r\n",
    "        dfs(depth + 1, total - num[depth], plus, minus - 1, multiply, divide)\r\n",
    "    if multiply:\r\n",
    "        dfs(depth + 1, total * num[depth], plus, minus, multiply - 1, divide)\r\n",
    "    if divide:\r\n",
    "        dfs(depth + 1, int(total / num[depth]), plus, minus, multiply, divide - 1)\r\n",
    "\r\n",
    "\r\n",
    "dfs(1, num[0], op[0], op[1], op[2], op[3])\r\n",
    "print(maximum)\r\n",
    "print(minimum)"
   ],
   "outputs": [],
   "metadata": {}
  },
  {
   "cell_type": "code",
   "execution_count": 6,
   "source": [
    "import sys\r\n",
    "\r\n",
    "# input = sys.stdin.readline\r\n",
    "N = int(input())\r\n",
    "K = list(map(int, input().split()))\r\n",
    "op = list(map(int, input().split()))  # +, -, *, //\r\n",
    "\r\n",
    "acc = [-float('inf'), float('inf')]\r\n",
    "\r\n",
    "ans = []\r\n",
    "\r\n",
    "def dfs( count, sum_dfs, plus, minus, multi, divide) :\r\n",
    "    if count == len(K) :\r\n",
    "        ans.append(sum_dfs)\r\n",
    "        acc[0] = max(sum_dfs, acc[0])\r\n",
    "        acc[1] = min(sum_dfs, acc[1])\r\n",
    "        return\r\n",
    "    if plus :\r\n",
    "        dfs(count+1, sum_dfs + K[count], plus - 1, minus, multi, divide )\r\n",
    "    if minus :\r\n",
    "        dfs(count+1, sum_dfs - K[count], plus, minus-1, multi, divide )\r\n",
    "    if multi :\r\n",
    "        dfs(count+1, sum_dfs * K[count], plus, minus, multi-1, divide )\r\n",
    "    if divide :\r\n",
    "        dfs(count+1, int(sum_dfs / K[count]), plus, minus, multi, divide-1)\r\n",
    "\r\n",
    "dfs(1, K[0], op[0], op[1], op[2], op[3])\r\n",
    "\r\n",
    "print(acc[0])\r\n",
    "print(acc[1])\r\n",
    "print(len(ans))\r\n"
   ],
   "outputs": [
    {
     "output_type": "stream",
     "name": "stdout",
     "text": [
      "54\n",
      "-24\n",
      "60\n"
     ]
    }
   ],
   "metadata": {}
  },
  {
   "cell_type": "code",
   "execution_count": 31,
   "source": [
    "a = [1,2,3,4]\r\n",
    "for i,d in enumerate(a) :\r\n",
    "    print(i,d)"
   ],
   "outputs": [
    {
     "output_type": "stream",
     "name": "stdout",
     "text": [
      "0 1\n",
      "1 2\n",
      "2 3\n",
      "3 4\n"
     ]
    }
   ],
   "metadata": {}
  },
  {
   "cell_type": "code",
   "execution_count": 5,
   "source": [
    "a = ['*']\r\n",
    "sum_dfs = 5\r\n",
    "\r\n",
    "exec('sum_dfs' + a[0] + '= sum_dfs')\r\n",
    "# exec('b' + a + '= b')\r\n",
    "sum_dfs"
   ],
   "outputs": [
    {
     "output_type": "execute_result",
     "data": {
      "text/plain": [
       "25"
      ]
     },
     "metadata": {},
     "execution_count": 5
    }
   ],
   "metadata": {}
  },
  {
   "cell_type": "code",
   "execution_count": 3,
   "source": [
    "from itertools import *\r\n",
    "import heapq\r\n",
    "\r\n",
    "def solution(v):\r\n",
    "    answer = [0,0] \r\n",
    "    x = []\r\n",
    "    y = []\r\n",
    "    for _v in v: \r\n",
    "        x.append(_v[0])\r\n",
    "        y.append(_v[1])\r\n",
    "    print(x,y)\r\n",
    "    _x = set(x)\r\n",
    "    _y = set(y)\r\n",
    "    print(_x, _y)\r\n",
    "    return [ _x[0] if x.count(_x[0]) == 1 else _x[1] ,\r\n",
    "             _y[0] if y.count(_y[0]) == 1 else _y[1] ]\r\n",
    "\r\n",
    "solution([ [1,2], [3,4]])"
   ],
   "outputs": [
    {
     "output_type": "stream",
     "name": "stdout",
     "text": [
      "[1, 3] [2, 4]\n",
      "{1, 3} {2, 4}\n"
     ]
    },
    {
     "output_type": "error",
     "ename": "TypeError",
     "evalue": "'set' object does not support indexing",
     "traceback": [
      "\u001b[1;31m---------------------------------------------------------------------------\u001b[0m",
      "\u001b[1;31mTypeError\u001b[0m                                 Traceback (most recent call last)",
      "\u001b[1;32m<ipython-input-3-7b97c468dee9>\u001b[0m in \u001b[0;36m<module>\u001b[1;34m\u001b[0m\n\u001b[0;32m     16\u001b[0m              _y[0] if y.count(_y[0]) == 1 else _y[1] ]\n\u001b[0;32m     17\u001b[0m \u001b[1;33m\u001b[0m\u001b[0m\n\u001b[1;32m---> 18\u001b[1;33m \u001b[0msolution\u001b[0m\u001b[1;33m(\u001b[0m\u001b[1;33m[\u001b[0m \u001b[1;33m[\u001b[0m\u001b[1;36m1\u001b[0m\u001b[1;33m,\u001b[0m\u001b[1;36m2\u001b[0m\u001b[1;33m]\u001b[0m\u001b[1;33m,\u001b[0m \u001b[1;33m[\u001b[0m\u001b[1;36m3\u001b[0m\u001b[1;33m,\u001b[0m\u001b[1;36m4\u001b[0m\u001b[1;33m]\u001b[0m\u001b[1;33m]\u001b[0m\u001b[1;33m)\u001b[0m\u001b[1;33m\u001b[0m\u001b[1;33m\u001b[0m\u001b[0m\n\u001b[0m",
      "\u001b[1;32m<ipython-input-3-7b97c468dee9>\u001b[0m in \u001b[0;36msolution\u001b[1;34m(v)\u001b[0m\n\u001b[0;32m     13\u001b[0m     \u001b[0m_y\u001b[0m \u001b[1;33m=\u001b[0m \u001b[0mset\u001b[0m\u001b[1;33m(\u001b[0m\u001b[0my\u001b[0m\u001b[1;33m)\u001b[0m\u001b[1;33m\u001b[0m\u001b[1;33m\u001b[0m\u001b[0m\n\u001b[0;32m     14\u001b[0m     \u001b[0mprint\u001b[0m\u001b[1;33m(\u001b[0m\u001b[0m_x\u001b[0m\u001b[1;33m,\u001b[0m \u001b[0m_y\u001b[0m\u001b[1;33m)\u001b[0m\u001b[1;33m\u001b[0m\u001b[1;33m\u001b[0m\u001b[0m\n\u001b[1;32m---> 15\u001b[1;33m     return [ _x[0] if x.count(_x[0]) == 1 else _x[1] ,\n\u001b[0m\u001b[0;32m     16\u001b[0m              _y[0] if y.count(_y[0]) == 1 else _y[1] ]\n\u001b[0;32m     17\u001b[0m \u001b[1;33m\u001b[0m\u001b[0m\n",
      "\u001b[1;31mTypeError\u001b[0m: 'set' object does not support indexing"
     ]
    }
   ],
   "metadata": {}
  }
 ],
 "metadata": {
  "orig_nbformat": 4,
  "language_info": {
   "name": "python",
   "version": "3.6.10",
   "mimetype": "text/x-python",
   "codemirror_mode": {
    "name": "ipython",
    "version": 3
   },
   "pygments_lexer": "ipython3",
   "nbconvert_exporter": "python",
   "file_extension": ".py"
  },
  "kernelspec": {
   "name": "python3",
   "display_name": "Python 3.6.10 32-bit ('Creon': conda)"
  },
  "interpreter": {
   "hash": "9635ca3d6d5f11656583d6eb63f4b0aef68d4d14b39e0cdfbcfd3fa05a10e097"
  }
 },
 "nbformat": 4,
 "nbformat_minor": 2
}