{
 "metadata": {
  "language_info": {
   "codemirror_mode": {
    "name": "ipython",
    "version": 3
   },
   "file_extension": ".py",
   "mimetype": "text/x-python",
   "name": "python",
   "nbconvert_exporter": "python",
   "pygments_lexer": "ipython3",
   "version": "3.7.4"
  },
  "orig_nbformat": 4,
  "kernelspec": {
   "name": "python3",
   "display_name": "Python 3.7.4 64-bit ('base': conda)"
  },
  "interpreter": {
   "hash": "e7d038aa72807799928ccaf1234000621fefdbda063a649808cfeb31bc2dffeb"
  }
 },
 "nbformat": 4,
 "nbformat_minor": 2,
 "cells": [
  {
   "cell_type": "code",
   "execution_count": 4,
   "source": [
    "def curry(func) :\r\n",
    "    curry.__func_name__ = func.__name__ \r\n",
    "    f_args, f_kwargs = [], {}\r\n",
    "    def f(*args, **kwargs) :\r\n",
    "        nonlocal f_args, f_kwargs \r\n",
    "        if args or kwargs :\r\n",
    "            print(\"args\", args, \"kwargs\", kwargs)\r\n",
    "            f_args += args \r\n",
    "            f_kwargs.update(kwargs)\r\n",
    "            if len(f_args) + len(f_kwargs) >= func.__code__.co_argcount  : \r\n",
    "                result = func( *f_args, **f_kwargs)\r\n",
    "                f_args, f_kwargs = [], {}\r\n",
    "                return result\r\n",
    "            return f \r\n",
    "        else :\r\n",
    "            print( f_args, f_kwargs)\r\n",
    "            result = func( *f_args, **f_kwargs)\r\n",
    "            f_args, f_kwargs = [], {}\r\n",
    "            return result\r\n",
    "    return f\r\n",
    "\r\n",
    "@curry \r\n",
    "def add( x, y ) :\r\n",
    "\treturn x + y\r\n",
    "\r\n",
    "print(add(1))\r\n",
    "print(add(2))\r\n",
    "print(add(3))"
   ],
   "outputs": [
    {
     "output_type": "stream",
     "name": "stdout",
     "text": [
      "args (1,) kwargs {}\n",
      "<function curry.<locals>.f at 0x0000020C57CE6AF8>\n",
      "args (2,) kwargs {}\n",
      "3\n",
      "args (3,) kwargs {}\n",
      "<function curry.<locals>.f at 0x0000020C57CE6AF8>\n"
     ]
    }
   ],
   "metadata": {}
  },
  {
   "cell_type": "code",
   "execution_count": 3,
   "source": [
    "def curry(func) :\r\n",
    "    def curried(*args, **kwargs) :\r\n",
    "        def f(*args2, **kwargs2) :\r\n",
    "            nonlocal args, kwargs\r\n",
    "            args += args2\r\n",
    "            kwargs.update(kwargs2)\r\n",
    "            return curried(*args, **kwargs)\r\n",
    "        if len(args) + len(kwargs) >= func.__code__.co_argcount:\r\n",
    "            return func(*args, **kwargs)\r\n",
    "        else :\r\n",
    "            return f\r\n",
    "    return curried\r\n",
    "\r\n",
    "@curry \r\n",
    "def add( x, y ) :\r\n",
    "\treturn x + y\r\n",
    "\r\n",
    "print(add(1))\r\n",
    "print(add(2))"
   ],
   "outputs": [
    {
     "output_type": "stream",
     "name": "stdout",
     "text": [
      "<function curry.<locals>.curried.<locals>.f at 0x0000020C549E9318>\n",
      "<function curry.<locals>.curried.<locals>.f at 0x0000020C57CE6168>\n"
     ]
    }
   ],
   "metadata": {}
  },
  {
   "cell_type": "code",
   "execution_count": 5,
   "source": [
    "def curry(func) :\n",
    "    def curried(*args, **kwargs) :\n",
    "        def f(*args2, **kwargs2) :\n",
    "            nonlocal args, kwargs\n",
    "            args += args2\n",
    "            kwargs.update(kwargs2)\n",
    "            return curried(*args, **kwargs)\n",
    "        if len(args) + len(kwargs) >= func.__code__.co_argcount:\n",
    "            return func(*args, **kwargs)\n",
    "        else :\n",
    "            return f\n",
    "    return curried\n",
    "\n",
    "@curry \n",
    "def reduce(f, iterable) :\n",
    "    iterable = iter(iterable)\n",
    "    acc = next(iterable)\n",
    "    for i in iterable:\n",
    "        acc = f(acc, i)\n",
    "    return acc\n",
    "\n",
    "def go(*args) :\n",
    "    def func(a, f) :\n",
    "        return f(a)\n",
    "    return reduce(func, args)\n",
    "    "
   ],
   "outputs": [],
   "metadata": {}
  },
  {
   "cell_type": "code",
   "execution_count": 11,
   "source": [
    "@curry \n",
    "def map(f, iterable) :\n",
    "    result = []\n",
    "    print( 'map_iterable', iterable )\n",
    "    for i in iterable :\n",
    "        result.append( f(i) )\n",
    "    return result "
   ],
   "outputs": [],
   "metadata": {}
  },
  {
   "cell_type": "code",
   "execution_count": 12,
   "source": [
    "go(\n",
    "    [1,2,3,4],\n",
    "    map(lambda x : x+5),\n",
    "    map(lambda x : x+5),\n",
    "    map(lambda x : x+5),\n",
    ")"
   ],
   "outputs": [
    {
     "output_type": "stream",
     "name": "stdout",
     "text": [
      "map_iterable [1, 2, 3, 4]\n",
      "map_iterable [6, 7, 8, 9]\n",
      "map_iterable [11, 12, 13, 14]\n"
     ]
    },
    {
     "output_type": "execute_result",
     "data": {
      "text/plain": [
       "[16, 17, 18, 19]"
      ]
     },
     "metadata": {},
     "execution_count": 12
    }
   ],
   "metadata": {}
  }
 ]
}