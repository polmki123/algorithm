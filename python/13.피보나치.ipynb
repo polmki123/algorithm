{
 "cells": [
  {
   "cell_type": "code",
   "execution_count": 10,
   "source": [
    "def dp(n) :\r\n",
    "    if n == 1 or n == 0 : return n\r\n",
    "    # if n == 0 : return 0\r\n",
    "    return dp(n-1) + dp(n-2)\r\n",
    "\r\n",
    "n = int( input() )\r\n",
    "\r\n",
    "print(dp(n)) "
   ],
   "outputs": [
    {
     "output_type": "stream",
     "name": "stdout",
     "text": [
      "55\n"
     ]
    }
   ],
   "metadata": {}
  }
 ],
 "metadata": {
  "orig_nbformat": 4,
  "language_info": {
   "name": "python",
   "version": "3.6.10",
   "mimetype": "text/x-python",
   "codemirror_mode": {
    "name": "ipython",
    "version": 3
   },
   "pygments_lexer": "ipython3",
   "nbconvert_exporter": "python",
   "file_extension": ".py"
  },
  "kernelspec": {
   "name": "python3",
   "display_name": "Python 3.6.10 32-bit ('Creon': conda)"
  },
  "interpreter": {
   "hash": "9635ca3d6d5f11656583d6eb63f4b0aef68d4d14b39e0cdfbcfd3fa05a10e097"
  }
 },
 "nbformat": 4,
 "nbformat_minor": 2
}