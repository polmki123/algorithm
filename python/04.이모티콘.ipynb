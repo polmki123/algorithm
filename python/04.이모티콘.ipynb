{
 "cells": [
  {
   "cell_type": "code",
   "execution_count": 1,
   "source": [
    "def curry(func) :\r\n",
    "    def curried( *args, **kwargs): \r\n",
    "        def f ( *args2, **kwargs2) :\r\n",
    "            nonlocal args, kwargs \r\n",
    "            args += args2\r\n",
    "            kwargs.update(kwargs2)\r\n",
    "            return curried(*args, **kwargs)\r\n",
    "        if len(args) + len(kwargs) >= func.__code__.co_argcount :\r\n",
    "            result = func(*args, **kwargs)\r\n",
    "            args, kwargs = [], {}\r\n",
    "            return result\r\n",
    "        return f\r\n",
    "\r\n",
    "    return curried\r\n",
    "\r\n",
    "@curry\r\n",
    "def reduce(f , iterable) :\r\n",
    "    iterable = iter(iterable)\r\n",
    "    acc = next(iterable)\r\n",
    "    for _i in iterable :\r\n",
    "        acc = f(acc, _i)\r\n",
    "    return acc \r\n",
    "\r\n",
    "def go(*args) :\r\n",
    "    def func(a, f):\r\n",
    "        return f(a)\r\n",
    "    return reduce(func, *args)"
   ],
   "outputs": [],
   "metadata": {}
  },
  {
   "cell_type": "code",
   "execution_count": 11,
   "source": [
    "\r\n",
    "from collections import *\r\n",
    "\r\n",
    "def bfs(n) :\r\n",
    "    ep_sv = [[0]*2002 for _ in range(2002)]\r\n",
    "    ep_sv[1][0] = 0\r\n",
    "    ans = 0\r\n",
    "    deq = deque()\r\n",
    "    deq.append((1,0))\r\n",
    "    while deq :\r\n",
    "        x, y  = deq.popleft()\r\n",
    "        if x == n :\r\n",
    "            ans = ep_sv[x][y]\r\n",
    "            return ans\r\n",
    "        else :\r\n",
    "            if x < n and ep_sv[x][x] == 0:\r\n",
    "                ep_sv[x][x] = ep_sv[x][y] + 1\r\n",
    "                deq.append((x,x))\r\n",
    "            if x < n and ep_sv[x + y][0] == 0:\r\n",
    "                ep_sv[x + y][y] = ep_sv[x][y] + 1\r\n",
    "                deq.append( (x + y, y) )\r\n",
    "            if x > n and ep_sv[x - 1][y] == 0 :\r\n",
    "                ep_sv[x - 1][y] = ep_sv[x][y] + 1\r\n",
    "                deq.append( (x-1,y))\r\n",
    "\r\n",
    "    print(ans)            \r\n",
    "\r\n",
    "n = map( int, sys.stdin.readline().split())\r\n",
    "bfs(18)"
   ],
   "outputs": [
    {
     "output_type": "execute_result",
     "data": {
      "text/plain": [
       "8"
      ]
     },
     "metadata": {},
     "execution_count": 11
    }
   ],
   "metadata": {}
  },
  {
   "cell_type": "code",
   "execution_count": 28,
   "source": [
    "\r\n",
    "from collections import *\r\n",
    "import sys \r\n",
    "\r\n",
    "def bfs(n) :\r\n",
    "    ep_sv = [[0]*2002 for _ in range(2002)]\r\n",
    "    ep_sv[1][0] = 0\r\n",
    "    deq = deque()\r\n",
    "    deq.append((1,0))\r\n",
    "    while deq :\r\n",
    "        x, y  = deq.popleft()\r\n",
    "        # if x == n :\r\n",
    "        #     ans = ep_sv[x][y]\r\n",
    "        #     return ans\r\n",
    "        # else :\r\n",
    "        if x < n and ep_sv[x][x] == 0:\r\n",
    "            ep_sv[x][x] = ep_sv[x][y] + 1\r\n",
    "            deq.append((x,x))\r\n",
    "        if x < n and ep_sv[x + y][y] == 0:\r\n",
    "            ep_sv[x + y][y] = ep_sv[x][y] + 1\r\n",
    "            deq.append( (x + y, y) )\r\n",
    "        if x - 1 > 0 and  ep_sv[x - 1][y] == 0 :\r\n",
    "            ep_sv[x - 1][y] = ep_sv[x][y] + 1\r\n",
    "            deq.append( (x-1,y))\r\n",
    "\r\n",
    "    answer = -1\r\n",
    "    for i in range(n+1):\r\n",
    "        if ep_sv[n][i] != 0:\r\n",
    "            if answer == -1 or answer > ep_sv[n][i]:\r\n",
    "                answer = ep_sv[n][i]\r\n",
    "\r\n",
    "    print(answer)            \r\n",
    "\r\n",
    "# n = map( int, sys.stdin.readline().split())\r\n",
    "# n = int(sys.stdin.readline().rstrip())\r\n",
    "n = int(input())\r\n",
    "# n = 2\r\n",
    "# n = 18\r\n",
    "bfs(n)"
   ],
   "outputs": [
    {
     "output_type": "stream",
     "name": "stdout",
     "text": [
      "22\n"
     ]
    }
   ],
   "metadata": {}
  }
 ],
 "metadata": {
  "orig_nbformat": 4,
  "language_info": {
   "name": "python",
   "version": "3.7.9",
   "mimetype": "text/x-python",
   "codemirror_mode": {
    "name": "ipython",
    "version": 3
   },
   "pygments_lexer": "ipython3",
   "nbconvert_exporter": "python",
   "file_extension": ".py"
  },
  "kernelspec": {
   "name": "python3",
   "display_name": "Python 3.7.9 32-bit"
  },
  "interpreter": {
   "hash": "f14bb1ed52f05df056044f2c83c27dec742a7a806f1303b49060e034bb457352"
  }
 },
 "nbformat": 4,
 "nbformat_minor": 2
}