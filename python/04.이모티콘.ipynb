{
 "cells": [
  {
   "cell_type": "code",
   "execution_count": 1,
   "source": [
    "def curry(func) :\r\n",
    "    def curried( *args, **kwargs): \r\n",
    "        def f ( *args2, **kwargs2) :\r\n",
    "            nonlocal args, kwargs \r\n",
    "            args += args2\r\n",
    "            kwargs.update(kwargs2)\r\n",
    "            return curried(*args, **kwargs)\r\n",
    "        if len(args) + len(kwargs) >= func.__code__.co_argcount :\r\n",
    "            result = func(*args, **kwargs)\r\n",
    "            args, kwargs = [], {}\r\n",
    "            return result\r\n",
    "        return f\r\n",
    "\r\n",
    "    return curried\r\n",
    "\r\n",
    "@curry\r\n",
    "def reduce(f , iterable) :\r\n",
    "    iterable = iter(iterable)\r\n",
    "    acc = next(iterable)\r\n",
    "    for _i in iterable :\r\n",
    "        acc = f(acc, _i)\r\n",
    "    return acc \r\n",
    "\r\n",
    "def go(*args) :\r\n",
    "    def func(a, f):\r\n",
    "        return f(a)\r\n",
    "    return reduce(func, *args)"
   ],
   "outputs": [],
   "metadata": {}
  },
  {
   "cell_type": "code",
   "execution_count": null,
   "source": [
    "\r\n",
    "from collections import *\r\n",
    "\r\n",
    "def bfs(n) :\r\n",
    "    save = [0] * 1001\r\n",
    "    express = [0] * 1001\r\n",
    "    express[0] = 1\r\n",
    "    deq = deque()\r\n",
    "    deq.append(1)\r\n",
    "    while deq :\r\n",
    "        x = deq.popleft()\r\n",
    "        if x == n :\r\n",
    "            ans = move[x]\r\n",
    "        else :\r\n",
    "            for i in [ x + 1, x - 1, x * 2] :\r\n",
    "                if 0 <= i <= 100001 and dist[i] == 0 :\r\n",
    "                    dist[i] = dist[x] + 1\r\n",
    "                    move[i] = x\r\n",
    "                    deq.append(i)\r\n",
    "        return ans             \r\n"
   ],
   "outputs": [],
   "metadata": {}
  }
 ],
 "metadata": {
  "orig_nbformat": 4,
  "language_info": {
   "name": "python",
   "version": "3.7.9",
   "mimetype": "text/x-python",
   "codemirror_mode": {
    "name": "ipython",
    "version": 3
   },
   "pygments_lexer": "ipython3",
   "nbconvert_exporter": "python",
   "file_extension": ".py"
  },
  "kernelspec": {
   "name": "python3",
   "display_name": "Python 3.7.9 32-bit"
  },
  "interpreter": {
   "hash": "f14bb1ed52f05df056044f2c83c27dec742a7a806f1303b49060e034bb457352"
  }
 },
 "nbformat": 4,
 "nbformat_minor": 2
}