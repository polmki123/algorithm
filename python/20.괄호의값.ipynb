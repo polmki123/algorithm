{
 "cells": [
  {
   "cell_type": "code",
   "execution_count": 22,
   "source": [
    "from collections import *\r\n",
    "\r\n",
    "stk = []\r\n",
    "ans = []\r\n",
    "for s in list(input()) :\r\n",
    "    if stk :\r\n",
    "        if s == '(' :\r\n",
    "            ans.append(1)\r\n",
    "            stk.append(s)\r\n",
    "        elif s == '[' :\r\n",
    "            ans.append(1)\r\n",
    "            stk.append(s)\r\n",
    "        elif s == ')' :\r\n",
    "            if stk[-1] == '(' :\r\n",
    "                if ans[-1] == 1 :\r\n",
    "                    ans[-1] = ans[-1]*2\r\n",
    "                else :\r\n",
    "                    for i in range(len(ans)-1, -1, -1):\r\n",
    "                        if ans[i] == 1 :\r\n",
    "                            ans[ i ] = sum(ans[ i+1:]) *2\r\n",
    "                            del ans[i+1:]\r\n",
    "                            break\r\n",
    "                stk.pop()\r\n",
    "            else :\r\n",
    "                ans = 0\r\n",
    "                break\r\n",
    "        elif s == ']' :\r\n",
    "            if stk[-1] == '[' :\r\n",
    "                if ans[-1] == 1 :\r\n",
    "                    ans[-1] = ans[-1]*3\r\n",
    "                else :\r\n",
    "                    for i in range(len(ans)-1, -1, -1):\r\n",
    "                        if ans[i] == 1 :\r\n",
    "                            ans[ i ] = sum(ans[ i+1:]) *3\r\n",
    "                            del ans[i+1:]\r\n",
    "                            break\r\n",
    "                stk.pop()\r\n",
    "            else :\r\n",
    "                ans = 0\r\n",
    "                break\r\n",
    "    else :\r\n",
    "        stk.append(s)\r\n",
    "        if s == '(' :  \r\n",
    "            ans.append(1)\r\n",
    "        elif s == '[' :\r\n",
    "            ans.append(1)\r\n",
    "        else :\r\n",
    "            ans = 0\r\n",
    "            break\r\n",
    "\r\n",
    "# '(()[[]])([])'\r\n",
    "# print(stk) \r\n",
    "# print(stk)\r\n",
    "print(  0 if stk else sum(ans) )\r\n",
    "\r\n",
    " \r\n"
   ],
   "outputs": [
    {
     "output_type": "stream",
     "name": "stdout",
     "text": [
      "['(']\n",
      "1\n"
     ]
    }
   ],
   "metadata": {}
  }
 ],
 "metadata": {
  "orig_nbformat": 4,
  "language_info": {
   "name": "python",
   "version": "3.6.10",
   "mimetype": "text/x-python",
   "codemirror_mode": {
    "name": "ipython",
    "version": 3
   },
   "pygments_lexer": "ipython3",
   "nbconvert_exporter": "python",
   "file_extension": ".py"
  },
  "kernelspec": {
   "name": "python3",
   "display_name": "Python 3.6.10 32-bit ('Creon': conda)"
  },
  "interpreter": {
   "hash": "9635ca3d6d5f11656583d6eb63f4b0aef68d4d14b39e0cdfbcfd3fa05a10e097"
  }
 },
 "nbformat": 4,
 "nbformat_minor": 2
}