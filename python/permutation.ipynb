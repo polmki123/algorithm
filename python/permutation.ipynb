{
 "cells": [
  {
   "cell_type": "code",
   "execution_count": null,
   "source": [],
   "outputs": [],
   "metadata": {}
  },
  {
   "cell_type": "code",
   "execution_count": 3,
   "source": [
    "def curry(func) :\r\n",
    "    def curried (*args, **kwargs) :\r\n",
    "        def f(*args2, **kwargs2) :\r\n",
    "            nonlocal args, kwargs \r\n",
    "            args += args2\r\n",
    "            kwargs.update(kwargs2)\r\n",
    "            return curried(*args, **kwargs)\r\n",
    "\r\n",
    "        if len(args) + len(kwargs) >= func.__code__.co_argcount :\r\n",
    "            result = func(*args, **kwargs)\r\n",
    "            args, kwargs = [], {}\r\n",
    "            return result \r\n",
    "        else :\r\n",
    "            return f\r\n",
    "    return curried\r\n",
    "\r\n",
    "@curry\r\n",
    "def reduce(f, acc) :\r\n",
    "    acc = iter(acc)\r\n",
    "    initate = next(acc)\r\n",
    "    for a in acc :\r\n",
    "        initate = f(initate, a)\r\n",
    "    return initate\r\n",
    "\r\n",
    "def go(*args):\r\n",
    "    def func(a, f) :\r\n",
    "        return f(a)\r\n",
    "    return reduce(func, args)"
   ],
   "outputs": [],
   "metadata": {}
  },
  {
   "cell_type": "code",
   "execution_count": 32,
   "source": [
    "@curry\r\n",
    "def permutation(numbers) :\r\n",
    "    if len(numbers) == 1 :\r\n",
    "        return [numbers]\r\n",
    "    \r\n",
    "    result = []\r\n",
    "    print(numbers)\r\n",
    "    for _number in numbers : \r\n",
    "        Temp = numbers.copy()\r\n",
    "        Temp.remove(_number)\r\n",
    "        for _p in permutation( Temp ) :\r\n",
    "            result.append([ *_p, _number])\r\n",
    "\r\n",
    "    return result\r\n",
    "\r\n",
    "permutation([1,2,3,4])\r\n"
   ],
   "outputs": [
    {
     "output_type": "stream",
     "name": "stdout",
     "text": [
      "[1, 2, 3, 4]\n",
      "[2, 3, 4]\n",
      "[3, 4]\n",
      "[2, 4]\n",
      "[2, 3]\n",
      "[1, 3, 4]\n",
      "[3, 4]\n",
      "[1, 4]\n",
      "[1, 3]\n",
      "[1, 2, 4]\n",
      "[2, 4]\n",
      "[1, 4]\n",
      "[1, 2]\n",
      "[1, 2, 3]\n",
      "[2, 3]\n",
      "[1, 3]\n",
      "[1, 2]\n"
     ]
    },
    {
     "output_type": "execute_result",
     "data": {
      "text/plain": [
       "[[4, 3, 2, 1],\n",
       " [3, 4, 2, 1],\n",
       " [4, 2, 3, 1],\n",
       " [2, 4, 3, 1],\n",
       " [3, 2, 4, 1],\n",
       " [2, 3, 4, 1],\n",
       " [4, 3, 1, 2],\n",
       " [3, 4, 1, 2],\n",
       " [4, 1, 3, 2],\n",
       " [1, 4, 3, 2],\n",
       " [3, 1, 4, 2],\n",
       " [1, 3, 4, 2],\n",
       " [4, 2, 1, 3],\n",
       " [2, 4, 1, 3],\n",
       " [4, 1, 2, 3],\n",
       " [1, 4, 2, 3],\n",
       " [2, 1, 4, 3],\n",
       " [1, 2, 4, 3],\n",
       " [3, 2, 1, 4],\n",
       " [2, 3, 1, 4],\n",
       " [3, 1, 2, 4],\n",
       " [1, 3, 2, 4],\n",
       " [2, 1, 3, 4],\n",
       " [1, 2, 3, 4]]"
      ]
     },
     "metadata": {},
     "execution_count": 32
    }
   ],
   "metadata": {}
  },
  {
   "cell_type": "code",
   "execution_count": 1,
   "source": [
    "# @curry \r\n",
    "\r\n",
    "def permutation (numbers) :\r\n",
    "    if len(numbers) <= 1 :\r\n",
    "        return [numbers]\r\n",
    "    \r\n",
    "    result = []\r\n",
    "    for i, num in enumerate( numbers ) :\r\n",
    "        Temp = numbers.copy() \r\n",
    "        del Temp[i]\r\n",
    "        rest = permutation(Temp)\r\n",
    "        # for _p in rest :\r\n",
    "        #     arr = [ *_p, num]\r\n",
    "        #     # print(arr)\r\n",
    "        #     result.append(arr)\r\n",
    "        result.extend(list(map( lambda x : [num, *x], rest )) )\r\n",
    "\r\n",
    "    return result \r\n",
    "\r\n",
    "print(permutation([1,2,3,4]))"
   ],
   "outputs": [
    {
     "output_type": "stream",
     "name": "stdout",
     "text": [
      "[[1, 2, 3, 4], [1, 2, 4, 3], [1, 3, 2, 4], [1, 3, 4, 2], [1, 4, 2, 3], [1, 4, 3, 2], [2, 1, 3, 4], [2, 1, 4, 3], [2, 3, 1, 4], [2, 3, 4, 1], [2, 4, 1, 3], [2, 4, 3, 1], [3, 1, 2, 4], [3, 1, 4, 2], [3, 2, 1, 4], [3, 2, 4, 1], [3, 4, 1, 2], [3, 4, 2, 1], [4, 1, 2, 3], [4, 1, 3, 2], [4, 2, 1, 3], [4, 2, 3, 1], [4, 3, 1, 2], [4, 3, 2, 1]]\n"
     ]
    }
   ],
   "metadata": {}
  },
  {
   "cell_type": "code",
   "execution_count": 3,
   "source": [
    "# @curry \r\n",
    "\r\n",
    "\r\n",
    "def permutation (numbers) :\r\n",
    "    if len(numbers) <= 1 :\r\n",
    "        return [numbers]\r\n",
    "    \r\n",
    "    result = []\r\n",
    "    for i, num in enumerate( numbers ) :\r\n",
    "        Temp = numbers.copy() \r\n",
    "        del Temp[i]\r\n",
    "        rest = permutation(Temp)\r\n",
    "        print(rest)\r\n",
    "        # for _p in rest :\r\n",
    "        #     arr = [ *_p, num]\r\n",
    "        #     # print(arr)\r\n",
    "        #     result.append(arr)\r\n",
    "        result.extend(list(map( lambda x : [num, *x], rest )) )\r\n",
    "\r\n",
    "    return result \r\n",
    "\r\n",
    "\r\n",
    "print(permutation([1,2,3,4]))"
   ],
   "outputs": [
    {
     "output_type": "stream",
     "name": "stdout",
     "text": [
      "[[1, 2, 3, 4], [1, 2, 4, 3], [1, 3, 2, 4], [1, 3, 4, 2], [1, 4, 2, 3], [1, 4, 3, 2], [2, 1, 3, 4], [2, 1, 4, 3], [2, 3, 1, 4], [2, 3, 4, 1], [2, 4, 1, 3], [2, 4, 3, 1], [3, 1, 2, 4], [3, 1, 4, 2], [3, 2, 1, 4], [3, 2, 4, 1], [3, 4, 1, 2], [3, 4, 2, 1], [4, 1, 2, 3], [4, 1, 3, 2], [4, 2, 1, 3], [4, 2, 3, 1], [4, 3, 1, 2], [4, 3, 2, 1]]\n"
     ]
    }
   ],
   "metadata": {}
  },
  {
   "cell_type": "code",
   "execution_count": 10,
   "source": [
    "a = map(lambda x : x + 1,  [1] )\r\n",
    "def add (num) :\r\n",
    "    return num + 5\r\n",
    "a = list(map( add , range(5)))\r\n",
    "a"
   ],
   "outputs": [
    {
     "output_type": "execute_result",
     "data": {
      "text/plain": [
       "[5, 6, 7, 8, 9]"
      ]
     },
     "metadata": {},
     "execution_count": 10
    }
   ],
   "metadata": {}
  },
  {
   "cell_type": "code",
   "execution_count": 2,
   "source": [
    "for i, a in enumerate([1,2,3,4]) :\r\n",
    "    print(i,a)"
   ],
   "outputs": [
    {
     "output_type": "stream",
     "name": "stdout",
     "text": [
      "0 1\n",
      "1 2\n",
      "2 3\n",
      "3 4\n"
     ]
    }
   ],
   "metadata": {}
  },
  {
   "cell_type": "code",
   "execution_count": 2,
   "source": [
    "from itertools import permutations\r\n",
    "\r\n",
    "arr = [1,2,3,4]\r\n",
    "nPr = permutations(arr, 1)\r\n",
    "print(list(nPr))\r\n",
    "nPr = permutations(arr, 2)\r\n",
    "print(list(nPr))\r\n",
    "nPr = permutations(arr, 3)\r\n",
    "print(list(nPr))\r\n",
    "nPr = permutations(arr, 4)\r\n",
    "print(list(nPr))\r\n"
   ],
   "outputs": [
    {
     "output_type": "stream",
     "name": "stdout",
     "text": [
      "[(1,), (2,), (3,), (4,)]\n",
      "[(1, 2), (1, 3), (1, 4), (2, 1), (2, 3), (2, 4), (3, 1), (3, 2), (3, 4), (4, 1), (4, 2), (4, 3)]\n",
      "[(1, 2, 3), (1, 2, 4), (1, 3, 2), (1, 3, 4), (1, 4, 2), (1, 4, 3), (2, 1, 3), (2, 1, 4), (2, 3, 1), (2, 3, 4), (2, 4, 1), (2, 4, 3), (3, 1, 2), (3, 1, 4), (3, 2, 1), (3, 2, 4), (3, 4, 1), (3, 4, 2), (4, 1, 2), (4, 1, 3), (4, 2, 1), (4, 2, 3), (4, 3, 1), (4, 3, 2)]\n",
      "[(1, 2, 3, 4), (1, 2, 4, 3), (1, 3, 2, 4), (1, 3, 4, 2), (1, 4, 2, 3), (1, 4, 3, 2), (2, 1, 3, 4), (2, 1, 4, 3), (2, 3, 1, 4), (2, 3, 4, 1), (2, 4, 1, 3), (2, 4, 3, 1), (3, 1, 2, 4), (3, 1, 4, 2), (3, 2, 1, 4), (3, 2, 4, 1), (3, 4, 1, 2), (3, 4, 2, 1), (4, 1, 2, 3), (4, 1, 3, 2), (4, 2, 1, 3), (4, 2, 3, 1), (4, 3, 1, 2), (4, 3, 2, 1)]\n"
     ]
    }
   ],
   "metadata": {}
  },
  {
   "cell_type": "code",
   "execution_count": 20,
   "source": [
    "a = [1,2,3,4]\r\n",
    "a + [1]"
   ],
   "outputs": [
    {
     "output_type": "execute_result",
     "data": {
      "text/plain": [
       "[1, 2, 3, 4, 1]"
      ]
     },
     "metadata": {},
     "execution_count": 20
    }
   ],
   "metadata": {}
  }
 ],
 "metadata": {
  "orig_nbformat": 4,
  "language_info": {
   "name": "python",
   "version": "3.8.3",
   "mimetype": "text/x-python",
   "codemirror_mode": {
    "name": "ipython",
    "version": 3
   },
   "pygments_lexer": "ipython3",
   "nbconvert_exporter": "python",
   "file_extension": ".py"
  },
  "kernelspec": {
   "name": "python3",
   "display_name": "Python 3.8.3 64-bit (conda)"
  },
  "interpreter": {
   "hash": "b21b9d674cf76427cdb9289faa4be5ad4845575c205aabe8acfffa51f4b4cd71"
  }
 },
 "nbformat": 4,
 "nbformat_minor": 2
}