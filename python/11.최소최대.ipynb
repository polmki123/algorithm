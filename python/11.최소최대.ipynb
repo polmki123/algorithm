{
 "cells": [
  {
   "cell_type": "code",
   "execution_count": 2,
   "source": [
    "\r\n",
    "K = list ( map(int, input().split()) )\r\n",
    "\r\n",
    "def gcd(a, b) :\r\n",
    "    c = a%b\r\n",
    "    while c:\r\n",
    "        a = b \r\n",
    "        b = c\r\n",
    "        c = a%b \r\n",
    "    return b\r\n",
    "\r\n",
    "min_acc = gcd( max(K), min(K)  )\r\n",
    "\r\n",
    "print(min_acc)\r\n",
    "print( int ( K[0]*K[1]/min_acc) )\r\n",
    "\r\n"
   ],
   "outputs": [
    {
     "output_type": "stream",
     "name": "stdout",
     "text": [
      "12\n",
      "24\n"
     ]
    }
   ],
   "metadata": {}
  },
  {
   "cell_type": "code",
   "execution_count": 5,
   "source": [
    "min([1,2,3,4])"
   ],
   "outputs": [
    {
     "output_type": "execute_result",
     "data": {
      "text/plain": [
       "1"
      ]
     },
     "metadata": {},
     "execution_count": 5
    }
   ],
   "metadata": {}
  }
 ],
 "metadata": {
  "orig_nbformat": 4,
  "language_info": {
   "name": "python",
   "version": "3.6.10",
   "mimetype": "text/x-python",
   "codemirror_mode": {
    "name": "ipython",
    "version": 3
   },
   "pygments_lexer": "ipython3",
   "nbconvert_exporter": "python",
   "file_extension": ".py"
  },
  "kernelspec": {
   "name": "python3",
   "display_name": "Python 3.6.10 32-bit ('Creon': conda)"
  },
  "interpreter": {
   "hash": "9635ca3d6d5f11656583d6eb63f4b0aef68d4d14b39e0cdfbcfd3fa05a10e097"
  }
 },
 "nbformat": 4,
 "nbformat_minor": 2
}