{
 "cells": [
  {
   "cell_type": "code",
   "execution_count": 11,
   "source": [
    "from collections import *\r\n",
    "import sys\r\n",
    "\r\n",
    "'''\r\n",
    "20\r\n",
    "7\r\n",
    "23\r\n",
    "19\r\n",
    "10\r\n",
    "15\r\n",
    "25\r\n",
    "8\r\n",
    "13\r\n",
    "'''\r\n",
    "K = [ int(input()) for i in range(9) ]\r\n",
    "\r\n",
    "K = sorted(K, reverse = False)\r\n",
    "deq = deque()\r\n",
    "def dfs(n) :\r\n",
    "    if n == 7 :\r\n",
    "        if sum(deq) == 100: \r\n",
    "            while deq :\r\n",
    "                print(deq.popleft())\r\n",
    "            sys.exit()\r\n",
    "        return \r\n",
    "    for i in K[n:] :\r\n",
    "        deq.append(i)\r\n",
    "        dfs(n+1)\r\n",
    "        deq.pop()\r\n",
    "\r\n",
    "dfs(0)"
   ],
   "outputs": [
    {
     "output_type": "stream",
     "name": "stdout",
     "text": [
      "7\n"
     ]
    },
    {
     "output_type": "error",
     "ename": "SystemExit",
     "evalue": "",
     "traceback": [
      "An exception has occurred, use %tb to see the full traceback.\n",
      "\u001b[1;31mSystemExit\u001b[0m\n"
     ]
    },
    {
     "output_type": "stream",
     "name": "stderr",
     "text": [
      "C:\\Users\\kch\\Anaconda3\\envs\\Creon\\lib\\site-packages\\IPython\\core\\interactiveshell.py:3351: UserWarning: To exit: use 'exit', 'quit', or Ctrl-D.\n",
      "  warn(\"To exit: use 'exit', 'quit', or Ctrl-D.\", stacklevel=1)\n"
     ]
    }
   ],
   "metadata": {}
  },
  {
   "cell_type": "code",
   "execution_count": 12,
   "source": [
    "l=[];exec(9*'l+=[int(input())];');l.sort()\r\n",
    "for i in l:\r\n",
    "\tfor j in l:\r\n",
    "\t\tif i+j==sum(l)-100:l.remove(i);l.remove(j)\r\n",
    "for i in l:print(i)"
   ],
   "outputs": [
    {
     "output_type": "stream",
     "name": "stdout",
     "text": [
      "1\n",
      "1\n",
      "1\n",
      "1\n",
      "7\n",
      "10\n",
      "11\n",
      "19\n",
      "20\n"
     ]
    }
   ],
   "metadata": {}
  },
  {
   "cell_type": "code",
   "execution_count": 10,
   "source": [
    "\r\n",
    "a = [4,3,2,1]\r\n",
    "a= sorted(a, key = lambda x : x, reverse= False)\r\n",
    "a[0:]"
   ],
   "outputs": [
    {
     "output_type": "execute_result",
     "data": {
      "text/plain": [
       "[1, 2, 3, 4]"
      ]
     },
     "metadata": {},
     "execution_count": 10
    }
   ],
   "metadata": {}
  }
 ],
 "metadata": {
  "orig_nbformat": 4,
  "language_info": {
   "name": "python",
   "version": "3.6.10",
   "mimetype": "text/x-python",
   "codemirror_mode": {
    "name": "ipython",
    "version": 3
   },
   "pygments_lexer": "ipython3",
   "nbconvert_exporter": "python",
   "file_extension": ".py"
  },
  "kernelspec": {
   "name": "python3",
   "display_name": "Python 3.6.10 32-bit ('Creon': conda)"
  },
  "interpreter": {
   "hash": "9635ca3d6d5f11656583d6eb63f4b0aef68d4d14b39e0cdfbcfd3fa05a10e097"
  }
 },
 "nbformat": 4,
 "nbformat_minor": 2
}