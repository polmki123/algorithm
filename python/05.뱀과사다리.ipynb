{
 "cells": [
  {
   "cell_type": "code",
   "execution_count": null,
   "source": [
    "def curry(func) :\r\n",
    "    def curried( *args, **kwargs): \r\n",
    "        def f ( *args2, **kwargs2) :\r\n",
    "            nonlocal args, kwargs \r\n",
    "            args += args2\r\n",
    "            kwargs.update(kwargs2)\r\n",
    "            return curried(*args, **kwargs)\r\n",
    "        if len(args) + len(kwargs) >= func.__code__.co_argcount :\r\n",
    "            result = func(*args, **kwargs)\r\n",
    "            args, kwargs = [], {}\r\n",
    "            return result\r\n",
    "        return f\r\n",
    "\r\n",
    "    return curried\r\n",
    "\r\n",
    "@curry\r\n",
    "def reduce(f , iterable) :\r\n",
    "    iterable = iter(iterable)\r\n",
    "    acc = next(iterable)\r\n",
    "    for _i in iterable :\r\n",
    "        acc = f(acc, _i)\r\n",
    "    return acc \r\n",
    "\r\n",
    "def go(*args) :\r\n",
    "    def func(a, f):\r\n",
    "        return f(a)\r\n",
    "    return reduce(func, *args)"
   ],
   "outputs": [],
   "metadata": {}
  },
  {
   "cell_type": "code",
   "execution_count": 5,
   "source": [
    "import sys\r\n",
    "from collections import *"
   ],
   "outputs": [],
   "metadata": {}
  },
  {
   "cell_type": "code",
   "execution_count": 1,
   "source": [
    "import sys\r\n",
    "from collections import *\r\n",
    "\r\n",
    "u, v = map( int, sys.stdin.readline().split())\r\n",
    "\r\n",
    "arr     = [0] * 101\r\n",
    "dist    = [0] * 101\r\n",
    "\r\n",
    "for i in range(u + v) :\r\n",
    "    p, d = map( int, sys.stdin.readline().split())\r\n",
    "    dist[p] = d\r\n",
    "\r\n",
    "\r\n",
    "deq = deque()\r\n",
    "deq.append(1)\r\n",
    "while deq :\r\n",
    "    x = deq.popleft()\r\n",
    "    if x == 100 :\r\n",
    "        print(arr[100])\r\n",
    "        break\r\n",
    "    \r\n",
    "    for i in range(1,7) :\r\n",
    "        if i + x > 100 :\r\n",
    "            continue\r\n",
    "        if arr[ i + x] == 0 and dist[ i + x] == 0 :\r\n",
    "            arr[i + x] = arr[x] + 1\r\n",
    "            deq.append( i+x )\r\n",
    "        elif arr[ dist[ i + x] ] == 0 and dist[ i + x] != 0 :\r\n",
    "            arr[ dist[ i + x] ] = arr[x] + 1\r\n",
    "            deq.append( dist[ i + x] )"
   ],
   "outputs": [
    {
     "output_type": "error",
     "ename": "ValueError",
     "evalue": "not enough values to unpack (expected 2, got 0)",
     "traceback": [
      "\u001b[1;31m---------------------------------------------------------------------------\u001b[0m",
      "\u001b[1;31mValueError\u001b[0m                                Traceback (most recent call last)",
      "\u001b[1;32m~\\AppData\\Local\\Temp/ipykernel_12504/1147840975.py\u001b[0m in \u001b[0;36m<module>\u001b[1;34m\u001b[0m\n\u001b[0;32m      2\u001b[0m \u001b[1;32mfrom\u001b[0m \u001b[0mcollections\u001b[0m \u001b[1;32mimport\u001b[0m \u001b[1;33m*\u001b[0m\u001b[1;33m\u001b[0m\u001b[1;33m\u001b[0m\u001b[0m\n\u001b[0;32m      3\u001b[0m \u001b[1;33m\u001b[0m\u001b[0m\n\u001b[1;32m----> 4\u001b[1;33m \u001b[0mu\u001b[0m\u001b[1;33m,\u001b[0m \u001b[0mv\u001b[0m \u001b[1;33m=\u001b[0m \u001b[0mmap\u001b[0m\u001b[1;33m(\u001b[0m \u001b[0mint\u001b[0m\u001b[1;33m,\u001b[0m \u001b[0msys\u001b[0m\u001b[1;33m.\u001b[0m\u001b[0mstdin\u001b[0m\u001b[1;33m.\u001b[0m\u001b[0mreadline\u001b[0m\u001b[1;33m(\u001b[0m\u001b[1;33m)\u001b[0m\u001b[1;33m.\u001b[0m\u001b[0msplit\u001b[0m\u001b[1;33m(\u001b[0m\u001b[1;33m)\u001b[0m\u001b[1;33m)\u001b[0m\u001b[1;33m\u001b[0m\u001b[1;33m\u001b[0m\u001b[0m\n\u001b[0m\u001b[0;32m      5\u001b[0m \u001b[1;33m\u001b[0m\u001b[0m\n\u001b[0;32m      6\u001b[0m \u001b[0marr\u001b[0m     \u001b[1;33m=\u001b[0m \u001b[1;33m[\u001b[0m\u001b[1;36m0\u001b[0m\u001b[1;33m]\u001b[0m \u001b[1;33m*\u001b[0m \u001b[1;36m101\u001b[0m\u001b[1;33m\u001b[0m\u001b[1;33m\u001b[0m\u001b[0m\n",
      "\u001b[1;31mValueError\u001b[0m: not enough values to unpack (expected 2, got 0)"
     ]
    }
   ],
   "metadata": {}
  },
  {
   "cell_type": "code",
   "execution_count": 16,
   "source": [
    "u, v = 3, 7\r\n",
    "\r\n",
    "arr     = [0] * 101\r\n",
    "dist    = [0] * 101\r\n",
    "\r\n",
    "dist[32] = 62\r\n",
    "dist[42] = 68\r\n",
    "dist[12] = 98\r\n",
    "dist[95] = 13\r\n",
    "dist[97] = 25\r\n",
    "dist[93] = 37\r\n",
    "dist[79] = 27\r\n",
    "dist[75] = 19\r\n",
    "dist[49] = 47\r\n",
    "dist[67] = 17\r\n",
    "\r\n",
    "deq = deque()\r\n",
    "deq.append(1)\r\n",
    "while deq :\r\n",
    "\r\n",
    "    x = deq.popleft()\r\n",
    "    if x == 100 :\r\n",
    "        print(arr[100])\r\n",
    "        break\r\n",
    "    \r\n",
    "    for i in range(1,7) :\r\n",
    "        if i + x > 100 :\r\n",
    "            continue\r\n",
    "        if arr[ i + x] == 0 and dist[ i + x] == 0 :\r\n",
    "            arr[i + x] = arr[x] + 1\r\n",
    "            deq.append( i+x )\r\n",
    "        elif arr[ dist[ i + x] ] == 0 and dist[ i + x] != 0 :\r\n",
    "            arr[ dist[ i + x] ] = arr[x] + 1\r\n",
    "            deq.append( dist[ i + x] )\r\n"
   ],
   "outputs": [
    {
     "output_type": "stream",
     "name": "stdout",
     "text": [
      "3\n"
     ]
    }
   ],
   "metadata": {}
  },
  {
   "cell_type": "code",
   "execution_count": 9,
   "source": [
    "deq.__dir__()"
   ],
   "outputs": [
    {
     "output_type": "execute_result",
     "data": {
      "text/plain": [
       "['__repr__',\n",
       " '__hash__',\n",
       " '__getattribute__',\n",
       " '__lt__',\n",
       " '__le__',\n",
       " '__eq__',\n",
       " '__ne__',\n",
       " '__gt__',\n",
       " '__ge__',\n",
       " '__iter__',\n",
       " '__init__',\n",
       " '__bool__',\n",
       " '__len__',\n",
       " '__add__',\n",
       " '__mul__',\n",
       " '__rmul__',\n",
       " '__getitem__',\n",
       " '__setitem__',\n",
       " '__delitem__',\n",
       " '__contains__',\n",
       " '__iadd__',\n",
       " '__imul__',\n",
       " '__new__',\n",
       " 'append',\n",
       " 'appendleft',\n",
       " 'clear',\n",
       " '__copy__',\n",
       " 'copy',\n",
       " 'count',\n",
       " 'extend',\n",
       " 'extendleft',\n",
       " 'index',\n",
       " 'insert',\n",
       " 'pop',\n",
       " 'popleft',\n",
       " '__reduce__',\n",
       " 'remove',\n",
       " '__reversed__',\n",
       " 'reverse',\n",
       " 'rotate',\n",
       " '__sizeof__',\n",
       " 'maxlen',\n",
       " '__doc__',\n",
       " '__str__',\n",
       " '__setattr__',\n",
       " '__delattr__',\n",
       " '__reduce_ex__',\n",
       " '__subclasshook__',\n",
       " '__init_subclass__',\n",
       " '__format__',\n",
       " '__dir__',\n",
       " '__class__']"
      ]
     },
     "metadata": {},
     "execution_count": 9
    }
   ],
   "metadata": {}
  }
 ],
 "metadata": {
  "orig_nbformat": 4,
  "language_info": {
   "name": "python",
   "version": "3.7.9",
   "mimetype": "text/x-python",
   "codemirror_mode": {
    "name": "ipython",
    "version": 3
   },
   "pygments_lexer": "ipython3",
   "nbconvert_exporter": "python",
   "file_extension": ".py"
  },
  "kernelspec": {
   "name": "python3",
   "display_name": "Python 3.7.9 32-bit"
  },
  "interpreter": {
   "hash": "f14bb1ed52f05df056044f2c83c27dec742a7a806f1303b49060e034bb457352"
  }
 },
 "nbformat": 4,
 "nbformat_minor": 2
}