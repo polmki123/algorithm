{
 "cells": [
  {
   "cell_type": "code",
   "execution_count": 1,
   "source": [
    "def curry(func) :\r\n",
    "    def curried( *args, **kwargs): \r\n",
    "        def f ( *args2, **kwargs2) :\r\n",
    "            nonlocal args, kwargs \r\n",
    "            args += args2\r\n",
    "            kwargs.update(kwargs2)\r\n",
    "            return curried(*args, **kwargs)\r\n",
    "        if len(args) + len(kwargs) >= func.__code__.co_argcount :\r\n",
    "            result = func(*args, **kwargs)\r\n",
    "            args, kwargs = [], {}\r\n",
    "            return result\r\n",
    "        return f\r\n",
    "\r\n",
    "    return curried\r\n",
    "\r\n",
    "@curry\r\n",
    "def reduce(f , iterable) :\r\n",
    "    iterable = iter(iterable)\r\n",
    "    acc = next(iterable)\r\n",
    "    for _i in iterable :\r\n",
    "        acc = f(acc, _i)\r\n",
    "    return acc \r\n",
    "\r\n",
    "def go(*args) :\r\n",
    "    def func(a, f):\r\n",
    "        return f(a)\r\n",
    "    return reduce(func, *args)"
   ],
   "outputs": [],
   "metadata": {}
  },
  {
   "cell_type": "code",
   "execution_count": 38,
   "source": [
    "from itertools import permutations\r\n",
    "\r\n",
    "n = [1,2,3,4]\r\n",
    "k = 3\r\n",
    "\r\n",
    "list(permutations( n,k ))"
   ],
   "outputs": [
    {
     "output_type": "execute_result",
     "data": {
      "text/plain": [
       "[(1, 2, 3),\n",
       " (1, 2, 4),\n",
       " (1, 3, 2),\n",
       " (1, 3, 4),\n",
       " (1, 4, 2),\n",
       " (1, 4, 3),\n",
       " (2, 1, 3),\n",
       " (2, 1, 4),\n",
       " (2, 3, 1),\n",
       " (2, 3, 4),\n",
       " (2, 4, 1),\n",
       " (2, 4, 3),\n",
       " (3, 1, 2),\n",
       " (3, 1, 4),\n",
       " (3, 2, 1),\n",
       " (3, 2, 4),\n",
       " (3, 4, 1),\n",
       " (3, 4, 2),\n",
       " (4, 1, 2),\n",
       " (4, 1, 3),\n",
       " (4, 2, 1),\n",
       " (4, 2, 3),\n",
       " (4, 3, 1),\n",
       " (4, 3, 2)]"
      ]
     },
     "metadata": {},
     "execution_count": 38
    }
   ],
   "metadata": {}
  },
  {
   "cell_type": "code",
   "execution_count": 45,
   "source": [
    "# @curry \r\n",
    "def permutation (numbers, count = 1) :\r\n",
    "    if len(numbers) <= count :\r\n",
    "        return [[numbers[0]]]\r\n",
    "    \r\n",
    "    result = []\r\n",
    "    for i, num in enumerate( numbers ) :\r\n",
    "        Temp = numbers.copy() \r\n",
    "        del Temp[i]\r\n",
    "        rest = permutation(Temp, count)\r\n",
    "        result.extend( map( lambda x : [num, *x], rest ) ) \r\n",
    "\r\n",
    "    return result \r\n",
    "\r\n",
    "\r\n",
    "a = [1,2,3,4]\r\n",
    "k = 2\r\n",
    "# 길이가 2개 인 순열을 만든다면 len(a) - k를 하여 이 아상 숫자가 커지지 않게한다. \r\n",
    "count = ( len(a) - k ) if ( len(a) - k  ) else 1\r\n",
    "result = (permutation(a, count))\r\n",
    "\r\n",
    "for _r in result :\r\n",
    "    print(_r[:k])"
   ],
   "outputs": [
    {
     "output_type": "stream",
     "name": "stdout",
     "text": [
      "[1, 2]\n",
      "[1, 3]\n",
      "[1, 4]\n",
      "[2, 1]\n",
      "[2, 3]\n",
      "[2, 4]\n",
      "[3, 1]\n",
      "[3, 2]\n",
      "[3, 4]\n",
      "[4, 1]\n",
      "[4, 2]\n",
      "[4, 3]\n"
     ]
    }
   ],
   "metadata": {}
  },
  {
   "cell_type": "code",
   "execution_count": 15,
   "source": [
    "import sys\r\n",
    "\r\n",
    "def permutation (numbers, count = 1) :\r\n",
    "    if len(numbers) <= count :\r\n",
    "        return [[numbers[0]]]\r\n",
    "    \r\n",
    "    result = []\r\n",
    "    for i, num in enumerate( numbers ) :\r\n",
    "        Temp = numbers.copy() \r\n",
    "        del Temp[i]\r\n",
    "        rest = permutation(Temp, count)\r\n",
    "        result.extend( map( lambda x : [num, *x], rest ) ) \r\n",
    "\r\n",
    "    return result \r\n",
    "\r\n",
    "\r\n",
    "n, k = map( int, sys.stdin.readline().split())\r\n",
    "n = [ i for i in range(1,n+1)]\r\n",
    "# n = [1,2,3]\r\n",
    "# k = 3\r\n",
    "\r\n",
    "count = ( len(n) - k ) if ( len(n) - k  ) else 1\r\n",
    "result = (permutation(n, count))\r\n",
    "\r\n",
    "for _r in result :\r\n",
    "    print(*_r[:k])"
   ],
   "outputs": [
    {
     "output_type": "stream",
     "name": "stdout",
     "text": [
      "1 2 3\n",
      "1 3 2\n",
      "2 1 3\n",
      "2 3 1\n",
      "3 1 2\n",
      "3 2 1\n"
     ]
    }
   ],
   "metadata": {}
  }
 ],
 "metadata": {
  "orig_nbformat": 4,
  "language_info": {
   "name": "python",
   "version": "3.7.9",
   "mimetype": "text/x-python",
   "codemirror_mode": {
    "name": "ipython",
    "version": 3
   },
   "pygments_lexer": "ipython3",
   "nbconvert_exporter": "python",
   "file_extension": ".py"
  },
  "kernelspec": {
   "name": "python3",
   "display_name": "Python 3.7.9 32-bit"
  },
  "interpreter": {
   "hash": "f14bb1ed52f05df056044f2c83c27dec742a7a806f1303b49060e034bb457352"
  }
 },
 "nbformat": 4,
 "nbformat_minor": 2
}